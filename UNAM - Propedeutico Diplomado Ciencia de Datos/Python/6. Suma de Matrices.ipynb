{
 "cells": [
  {
   "cell_type": "markdown",
   "metadata": {},
   "source": [
    "### Programa 6 - Suma de Matrices"
   ]
  },
  {
   "cell_type": "code",
   "execution_count": 3,
   "metadata": {},
   "outputs": [
    {
     "name": "stdout",
     "output_type": "stream",
     "text": [
      "Matriz 1:\n",
      "[1, 4, 7]\n",
      "[2, 5, 6]\n",
      "[3, 6, 9]\n",
      "\n",
      "Matriz 2:\n",
      "[1, 2, 3]\n",
      "[4, 5, 6]\n",
      "[7, 8, 9]\n",
      "\n",
      "Matriz Resultado:\n",
      "[2, 6, 10]\n",
      "[6, 10, 12]\n",
      "[10, 14, 18]\n"
     ]
    }
   ],
   "source": [
    "def sumar_matrices(matriz1, matriz2):\n",
    "    resultado = [[0, 0, 0], [0, 0, 0], [0, 0, 0]]\n",
    "    \n",
    "    for i in range(3):\n",
    "        for j in range(3):\n",
    "            resultado[i][j] = matriz1[i][j] + matriz2[i][j]\n",
    "    \n",
    "    return resultado\n",
    "\n",
    "def imprimir_matriz(matriz):\n",
    "    for fila in matriz:\n",
    "        print(fila)\n",
    "\n",
    "# Matriz 1\n",
    "matriz1 = [\n",
    "    [1, 4, 7],\n",
    "    [2, 5, 6],\n",
    "    [3, 6, 9]\n",
    "]\n",
    "\n",
    "# Matriz 2\n",
    "matriz2 = [\n",
    "    [1, 2, 3],\n",
    "    [4, 5, 6],\n",
    "    [7, 8, 9]\n",
    "]\n",
    "\n",
    "# Sumar las matrices\n",
    "resultado = sumar_matrices(matriz1, matriz2)\n",
    "\n",
    "# Mostrar el resultado\n",
    "print(\"Matriz 1:\")\n",
    "imprimir_matriz(matriz1)\n",
    "\n",
    "print(\"\\nMatriz 2:\")\n",
    "imprimir_matriz(matriz2)\n",
    "\n",
    "print(\"\\nMatriz Resultado:\")\n",
    "imprimir_matriz(resultado)"
   ]
  }
 ],
 "metadata": {
  "kernelspec": {
   "display_name": "base",
   "language": "python",
   "name": "python3"
  },
  "language_info": {
   "codemirror_mode": {
    "name": "ipython",
    "version": 3
   },
   "file_extension": ".py",
   "mimetype": "text/x-python",
   "name": "python",
   "nbconvert_exporter": "python",
   "pygments_lexer": "ipython3",
   "version": "3.9.12"
  }
 },
 "nbformat": 4,
 "nbformat_minor": 2
}
