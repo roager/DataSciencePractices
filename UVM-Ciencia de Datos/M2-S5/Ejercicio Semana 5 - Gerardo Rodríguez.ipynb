{
 "cells": [
  {
   "cell_type": "markdown",
   "id": "d2b10bd7",
   "metadata": {},
   "source": [
    "# Ejercicio semana 5 \n",
    "## 1. Defina una lista de por lo menos 5 elementos e imprima cada uno de los elementos."
   ]
  },
  {
   "cell_type": "code",
   "execution_count": 13,
   "id": "62e4d4ed",
   "metadata": {},
   "outputs": [
    {
     "name": "stdout",
     "output_type": "stream",
     "text": [
      "El primer valor es: Manzana\n",
      "El segundo valor es: Galleta\n",
      "El tercer valor es: Cerveza\n",
      "El cuarto valor es: Reloj\n",
      "El quinto valor es: Taza\n"
     ]
    }
   ],
   "source": [
    "#primero definimos una lista llamada listadesuper con los objetos a guardar\n",
    "listadesuper = ['Manzana','Galleta','Cerveza','Reloj','Taza'] \n",
    "#usamos print para llamar las consultas de los objetos que queremos mostrar\n",
    "#Podemos usar indeces positivos para buscar que el orden sea del valor inicial al final\n",
    "print (\"El primer valor es:\", listadesuper[0])\n",
    "print (\"El segundo valor es:\", listadesuper[1])\n",
    "print (\"El tercer valor es:\", listadesuper[2])\n",
    "#Podemos usar indeces negativos para buscar que el orden sea del valor final al inicial\n",
    "print (\"El cuarto valor es:\", listadesuper[-2])\n",
    "print (\"El quinto valor es:\", listadesuper[-1])"
   ]
  },
  {
   "cell_type": "markdown",
   "id": "58b6469b",
   "metadata": {},
   "source": [
    "## 2. Escriba un programa en Python que reciba un número por la interfaz de usuario y en respuesta indique si el número es par o impar."
   ]
  },
  {
   "cell_type": "code",
   "execution_count": 9,
   "id": "df03e3e1",
   "metadata": {},
   "outputs": [
    {
     "name": "stdout",
     "output_type": "stream",
     "text": [
      "Introduzca valor a evaluar:2\n",
      "2 es par.\n"
     ]
    }
   ],
   "source": [
    "#Definimos la variable n1 donde guardaremos el número a evaluar\n",
    "#La variable tiene un input que nos soplicitara el valor que requerimos.\n",
    "n1 = input(\"Introduzca valor a evaluar:\")\n",
    "#Hacemos una declaración IF para validar si el residuo de nuestro número es igual a cero\n",
    "#Para evitar que el n1 se considere string lo convertimos a entero\n",
    "if int(n1) % 2 == 0:\n",
    "    print(n1, \"es par.\") #si es cero definimos que es par\n",
    "else:\n",
    "    print(n1, \"es impar.\") #si es otro número definimos que es impar"
   ]
  }
 ],
 "metadata": {
  "kernelspec": {
   "display_name": "Python 3 (ipykernel)",
   "language": "python",
   "name": "python3"
  },
  "language_info": {
   "codemirror_mode": {
    "name": "ipython",
    "version": 3
   },
   "file_extension": ".py",
   "mimetype": "text/x-python",
   "name": "python",
   "nbconvert_exporter": "python",
   "pygments_lexer": "ipython3",
   "version": "3.11.5"
  }
 },
 "nbformat": 4,
 "nbformat_minor": 5
}
