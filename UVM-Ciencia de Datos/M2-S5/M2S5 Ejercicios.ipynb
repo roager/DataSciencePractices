{
 "cells": [
  {
   "cell_type": "markdown",
   "id": "f9fd1d59",
   "metadata": {},
   "source": [
    "# M2S5 Ejercicio 1\n"
   ]
  },
  {
   "cell_type": "markdown",
   "id": "a0333487",
   "metadata": {},
   "source": [
    "## Objetivo: Crear una clase Estudiante que tenga los siguientes atributos: •nombre•edad •cursoy métodos para establecery obtenerestos atributos.\n",
    "## Implementación:\n",
    "### •Definir la clase y sus atributos\n",
    "### •Crear métodos para establecery obtener el curso\n",
    "### •Instanciar dos objetos de la clase y usar los métodos"
   ]
  },
  {
   "cell_type": "code",
   "execution_count": 10,
   "id": "fafe8c07",
   "metadata": {},
   "outputs": [],
   "source": [
    "class students:\n",
    "    def __init__(self, nombre, edad, curso):\n",
    "        self.nombre = nombre\n",
    "        self.edad = edad\n",
    "        self.curso = curso\n",
    "    def muestra_datos(self):\n",
    "        print (f\"El estudiante {self.nombre}, tiene {self.edad} anos y cursa {self.curso}\")"
   ]
  },
  {
   "cell_type": "code",
   "execution_count": 11,
   "id": "caad23d1",
   "metadata": {},
   "outputs": [],
   "source": [
    "student1 = students(\"Tom Hanks\",\"60\",\"Data Science\")\n",
    "student2 = students(\"Natalie Portman\",\"44\",\"Linear Algebra\")\n",
    "student3 = students(\"Michael Miers\",\"100\",\"Art Direction\")\n"
   ]
  },
  {
   "cell_type": "code",
   "execution_count": 12,
   "id": "e22ce0eb",
   "metadata": {},
   "outputs": [
    {
     "name": "stdout",
     "output_type": "stream",
     "text": [
      "El estudiante Tom Hanks, tiene 60 anos y cursa Data Science\n",
      "El estudiante Natalie Portman, tiene 44 anos y cursa Linear Algebra\n",
      "El estudiante Michael Miers, tiene 100 anos y cursa Art Direction\n"
     ]
    }
   ],
   "source": [
    "student1.muestra_datos()\n",
    "student2.muestra_datos()\n",
    "student3.muestra_datos()"
   ]
  },
  {
   "cell_type": "markdown",
   "id": "f5004e22",
   "metadata": {},
   "source": [
    "## M2S5 Ejercicio 2\n"
   ]
  },
  {
   "cell_type": "markdown",
   "id": "de9ffb5d",
   "metadata": {},
   "source": [
    "## Herencia y Polimorfismo\n",
    "### Objetivo: Extender la clase Estudiante creando una clase EstudianteUniversitario que herede de Estudiante y tenga atributos adicionales como carrera y semestre.\n",
    "### Implementación:•Definir la nueva clase que herede de Estudiante•Agregar nuevos métodos y atributos•Demostrar polimorfismo utilizando métodos de ambas clases"
   ]
  },
  {
   "cell_type": "code",
   "execution_count": 28,
   "id": "338ba5c1",
   "metadata": {},
   "outputs": [],
   "source": [
    "class EstudianteUniversitario(students):\n",
    "    def __init__(self, nombre, edad, curso, carrera, semestre):\n",
    "        super().__init__(nombre, edad, curso)\n",
    "        self.carrera = carrera\n",
    "        self.semestre = semestre\n",
    "    def muestra_datos_adv(self):\n",
    "        print (f\"El estudiante {self.nombre}, tiene {self.edad} años y cursa {self.curso} en el semestre {self.semestre} en la carrera de {self.carrera}\")"
   ]
  },
  {
   "cell_type": "code",
   "execution_count": 32,
   "id": "df665522",
   "metadata": {},
   "outputs": [
    {
     "name": "stdout",
     "output_type": "stream",
     "text": [
      "El estudiante Tom Hanks, tiene 60 años y cursa Data Science en el semestre 6 en la carrera de Informatics\n"
     ]
    }
   ],
   "source": [
    "student1 = EstudianteUniversitario(\"Tom Hanks\",\"60\",\"Data Science\",\"Informatics\",\"6\")\n",
    "student1.muestra_datos_adv()"
   ]
  },
  {
   "cell_type": "code",
   "execution_count": 29,
   "id": "bf5b895a",
   "metadata": {},
   "outputs": [
    {
     "name": "stdout",
     "output_type": "stream",
     "text": [
      "El estudiante Bugs Bunny, tiene 90 años y cursa Acting 101 en el semestre 8 en la carrera de Teathrical Arts\n",
      "El estudiante Ellon Musk, tiene 54 años y cursa Phisics 201 en el semestre 2 en la carrera de Industrial Engineering\n",
      "El estudiante Rick Sanchez, tiene 71 años y cursa Advanced Sarcasm en el semestre 10 en la carrera de Antihero\n"
     ]
    }
   ],
   "source": [
    "student4 = EstudianteUniversitario(\"Bugs Bunny\",\"90\",\"Acting 101\",\"Teathrical Arts\",\"8\")\n",
    "student5 = EstudianteUniversitario(\"Ellon Musk\",\"54\",\"Phisics 201\",\"Industrial Engineering\",\"2\")\n",
    "student6 = EstudianteUniversitario(\"Rick Sanchez\",\"71\",\"Advanced Sarcasm\",\"Antihero\",\"10\")\n",
    "student4.muestra_datos_adv()\n",
    "student5.muestra_datos_adv()\n",
    "student6.muestra_datos_adv()"
   ]
  },
  {
   "cell_type": "code",
   "execution_count": 33,
   "id": "ec95cf34",
   "metadata": {},
   "outputs": [
    {
     "name": "stdout",
     "output_type": "stream",
     "text": [
      "Bugs Bunny\n"
     ]
    }
   ],
   "source": [
    "print (student4.nombre)"
   ]
  },
  {
   "cell_type": "code",
   "execution_count": null,
   "id": "c12762c9",
   "metadata": {},
   "outputs": [],
   "source": []
  }
 ],
 "metadata": {
  "kernelspec": {
   "display_name": "Python 3 (ipykernel)",
   "language": "python",
   "name": "python3"
  },
  "language_info": {
   "codemirror_mode": {
    "name": "ipython",
    "version": 3
   },
   "file_extension": ".py",
   "mimetype": "text/x-python",
   "name": "python",
   "nbconvert_exporter": "python",
   "pygments_lexer": "ipython3",
   "version": "3.11.5"
  }
 },
 "nbformat": 4,
 "nbformat_minor": 5
}
