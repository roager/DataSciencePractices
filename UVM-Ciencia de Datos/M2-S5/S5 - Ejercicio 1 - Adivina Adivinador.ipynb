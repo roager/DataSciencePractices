{
 "cells": [
  {
   "cell_type": "markdown",
   "id": "dcc22fd1",
   "metadata": {},
   "source": [
    "# Introducción a la ciencia de datos\n",
    "##Escriban un programa que realice las siguientes actividades:\n"
   ]
  },
  {
   "cell_type": "markdown",
   "id": "3ea74544",
   "metadata": {},
   "source": [
    "# 1. Genera un número entero aleatorio entre 1 y 20 \n"
   ]
  },
  {
   "cell_type": "code",
   "execution_count": null,
   "id": "85d561ca",
   "metadata": {},
   "outputs": [],
   "source": [
    "import random\n",
    "print(random.randrange(1, 20))"
   ]
  },
  {
   "cell_type": "markdown",
   "id": "e04bde5d",
   "metadata": {},
   "source": [
    "# 2. Solicita al usuario adivinar el número\n"
   ]
  },
  {
   "cell_type": "code",
   "execution_count": 2,
   "id": "e16081ae",
   "metadata": {},
   "outputs": [
    {
     "name": "stdout",
     "output_type": "stream",
     "text": [
      "Adivina el número del 0 al 20 que piensa mi ordenador\n",
      "Elegiste el número: 1\n",
      "jeje Fallaste!!, el número es:  4  y tu elegiste  1\n"
     ]
    }
   ],
   "source": [
    "print(\"Adivina el número del 0 al 20 que piensa mi ordenador\")\n",
    "userNumber= input(\"Elegiste el número: \")\n",
    "import random\n",
    "computerNumber= random.randrange(20)\n",
    "if int(userNumber) == computerNumber:\n",
    "     print(\"Excelente, adivinaste\")\n",
    "else:\n",
    "    print(\"jeje Fallaste!!, el número es: \",computerNumber, \" y tu elegiste \",userNumber)"
   ]
  },
  {
   "cell_type": "markdown",
   "id": "f93dd26c",
   "metadata": {},
   "source": [
    "# 3. Si el usuario no adivina el número, se debe indicar si el número es mayor o menor que la suposición\n"
   ]
  },
  {
   "cell_type": "code",
   "execution_count": null,
   "id": "91af4150",
   "metadata": {},
   "outputs": [],
   "source": [
    "print(\"Adivina el número del 0 al 20 que piensa mi ordenador\")\n",
    "userNumber= input(\"Elegiste el número: \")\n",
    "import random\n",
    "computerNumber= random.randrange(20)\n",
    "if int(userNumber) == computerNumber:\n",
    "     print(\"Excelente, adivinaste\")\n",
    "else:\n",
    "    print(\"jeje Fallaste!!, el número de mi ordenador es: \",computerNumber, \" y tu elegiste \",userNumber)\n",
    "    if int(userNumber) > computerNumber:\n",
    "        print(\"el número de mi ordenador es menor que el tuyo\")\n",
    "    else: print(\"el número de mi ordenador es mayor que el tuyo\")\n",
    "        "
   ]
  },
  {
   "cell_type": "markdown",
   "id": "45f08626",
   "metadata": {},
   "source": [
    "# 4. El juego continúa hasta que el usuario adivine correctamente o después de 10 intentos\n"
   ]
  },
  {
   "cell_type": "code",
   "execution_count": 1,
   "id": "643a6ab0",
   "metadata": {},
   "outputs": [
    {
     "name": "stdout",
     "output_type": "stream",
     "text": [
      "Adivina el número del 0 al 20 que piensa mi ordenador\n",
      "Tendras 10 intentos disponibles y si aciertas tendras 10 mas\n",
      "Elegiste el número: 10\n",
      "jeje Fallaste!!, el número de mi ordenador es:  13  y tu elegiste  10\n",
      "el número de mi ordenador es mayor que el tuyo\n",
      "Te quedan  9  intentos disponibles\n",
      "Elegiste el número: 10\n",
      "jeje Fallaste!!, el número de mi ordenador es:  13  y tu elegiste  10\n",
      "el número de mi ordenador es mayor que el tuyo\n",
      "Te quedan  8  intentos disponibles\n",
      "Elegiste el número: 10\n",
      "jeje Fallaste!!, el número de mi ordenador es:  2  y tu elegiste  10\n",
      "el número de mi ordenador es menor que el tuyo\n",
      "Te quedan  7  intentos disponibles\n",
      "Elegiste el número: 10\n",
      "jeje Fallaste!!, el número de mi ordenador es:  15  y tu elegiste  10\n",
      "el número de mi ordenador es mayor que el tuyo\n",
      "Te quedan  6  intentos disponibles\n",
      "Elegiste el número: 10\n",
      "jeje Fallaste!!, el número de mi ordenador es:  9  y tu elegiste  10\n",
      "el número de mi ordenador es menor que el tuyo\n",
      "Te quedan  5  intentos disponibles\n",
      "Elegiste el número: 10\n",
      "jeje Fallaste!!, el número de mi ordenador es:  0  y tu elegiste  10\n",
      "el número de mi ordenador es menor que el tuyo\n",
      "Te quedan  4  intentos disponibles\n",
      "Elegiste el número: 10\n",
      "jeje Fallaste!!, el número de mi ordenador es:  14  y tu elegiste  10\n",
      "el número de mi ordenador es mayor que el tuyo\n",
      "Te quedan  3  intentos disponibles\n",
      "Elegiste el número: 10\n",
      "jeje Fallaste!!, el número de mi ordenador es:  16  y tu elegiste  10\n",
      "el número de mi ordenador es mayor que el tuyo\n",
      "Te quedan  2  intentos disponibles\n",
      "Elegiste el número: 10\n",
      "jeje Fallaste!!, el número de mi ordenador es:  19  y tu elegiste  10\n",
      "el número de mi ordenador es mayor que el tuyo\n",
      "Te quedan  1  intentos disponibles\n",
      "Elegiste el número: 10\n",
      "jeje Fallaste!!, el número de mi ordenador es:  5  y tu elegiste  10\n",
      "el número de mi ordenador es menor que el tuyo\n",
      "No te quedan mas intentos disponibles\n"
     ]
    }
   ],
   "source": [
    "print(\"Adivina el número del 0 al 20 que piensa mi ordenador\")\n",
    "print(\"Tendras 10 intentos disponibles y si aciertas tendras 10 mas\")\n",
    "i = 10\n",
    "while i > 0:\n",
    "    userNumber= input(\"Elegiste el número: \")\n",
    "    import random\n",
    "    computerNumber= random.randrange(20)\n",
    "    if int(userNumber) == computerNumber:\n",
    "         print(\"Excelente, adivinaste y tienes 10 intentos mas para jugar de nuevo\")\n",
    "         i=10\n",
    "    else:\n",
    "        print(\"jeje Fallaste!!, el número de mi ordenador es: \",computerNumber, \" y tu elegiste \",userNumber)\n",
    "        if int(userNumber) > computerNumber:\n",
    "            print(\"el número de mi ordenador es menor que el tuyo\")\n",
    "        else: print(\"el número de mi ordenador es mayor que el tuyo\")\n",
    "        i=i-1\n",
    "        if i > 0:\n",
    "            print (\"Te quedan \",i,\" intentos disponibles\")\n",
    "        else: \n",
    "            print (\"No te quedan mas intentos disponibles\")"
   ]
  },
  {
   "cell_type": "markdown",
   "id": "e9e8b6ed",
   "metadata": {},
   "source": [
    "# 5.En caso de ganar, debe notificárselo al usuario. En caso contrario, debe revelar el número correcto"
   ]
  },
  {
   "cell_type": "code",
   "execution_count": 1,
   "id": "6dc61844",
   "metadata": {},
   "outputs": [
    {
     "name": "stdout",
     "output_type": "stream",
     "text": [
      "Adivina el número del 0 al 20 que piensa mi ordenador\n",
      "Tendras 10 intentos disponibles y si aciertas tendras 10 mas\n"
     ]
    },
    {
     "ename": "KeyboardInterrupt",
     "evalue": "Interrupted by user",
     "output_type": "error",
     "traceback": [
      "\u001b[1;31m---------------------------------------------------------------------------\u001b[0m",
      "\u001b[1;31mKeyboardInterrupt\u001b[0m                         Traceback (most recent call last)",
      "Cell \u001b[1;32mIn[1], line 7\u001b[0m\n\u001b[0;32m      5\u001b[0m computerNumber\u001b[38;5;241m=\u001b[39m random\u001b[38;5;241m.\u001b[39mrandrange(\u001b[38;5;241m1\u001b[39m,\u001b[38;5;241m20\u001b[39m)\n\u001b[0;32m      6\u001b[0m \u001b[38;5;28;01mwhile\u001b[39;00m i \u001b[38;5;241m>\u001b[39m \u001b[38;5;241m0\u001b[39m:\n\u001b[1;32m----> 7\u001b[0m     userNumber\u001b[38;5;241m=\u001b[39m \u001b[38;5;28minput\u001b[39m(\u001b[38;5;124m\"\u001b[39m\u001b[38;5;124mElegiste el número: \u001b[39m\u001b[38;5;124m\"\u001b[39m)\n\u001b[0;32m      8\u001b[0m     \u001b[38;5;28;01mif\u001b[39;00m \u001b[38;5;28mint\u001b[39m(userNumber) \u001b[38;5;241m==\u001b[39m computerNumber:\n\u001b[0;32m      9\u001b[0m         \u001b[38;5;28mprint\u001b[39m(\u001b[38;5;124m\"\u001b[39m\u001b[38;5;124mExcelente, adivinaste y ganaste\u001b[39m\u001b[38;5;124m\"\u001b[39m)\n",
      "File \u001b[1;32m~\\anaconda3\\Lib\\site-packages\\ipykernel\\kernelbase.py:1202\u001b[0m, in \u001b[0;36mKernel.raw_input\u001b[1;34m(self, prompt)\u001b[0m\n\u001b[0;32m   1200\u001b[0m     msg \u001b[38;5;241m=\u001b[39m \u001b[38;5;124m\"\u001b[39m\u001b[38;5;124mraw_input was called, but this frontend does not support input requests.\u001b[39m\u001b[38;5;124m\"\u001b[39m\n\u001b[0;32m   1201\u001b[0m     \u001b[38;5;28;01mraise\u001b[39;00m StdinNotImplementedError(msg)\n\u001b[1;32m-> 1202\u001b[0m \u001b[38;5;28;01mreturn\u001b[39;00m \u001b[38;5;28mself\u001b[39m\u001b[38;5;241m.\u001b[39m_input_request(\n\u001b[0;32m   1203\u001b[0m     \u001b[38;5;28mstr\u001b[39m(prompt),\n\u001b[0;32m   1204\u001b[0m     \u001b[38;5;28mself\u001b[39m\u001b[38;5;241m.\u001b[39m_parent_ident[\u001b[38;5;124m\"\u001b[39m\u001b[38;5;124mshell\u001b[39m\u001b[38;5;124m\"\u001b[39m],\n\u001b[0;32m   1205\u001b[0m     \u001b[38;5;28mself\u001b[39m\u001b[38;5;241m.\u001b[39mget_parent(\u001b[38;5;124m\"\u001b[39m\u001b[38;5;124mshell\u001b[39m\u001b[38;5;124m\"\u001b[39m),\n\u001b[0;32m   1206\u001b[0m     password\u001b[38;5;241m=\u001b[39m\u001b[38;5;28;01mFalse\u001b[39;00m,\n\u001b[0;32m   1207\u001b[0m )\n",
      "File \u001b[1;32m~\\anaconda3\\Lib\\site-packages\\ipykernel\\kernelbase.py:1245\u001b[0m, in \u001b[0;36mKernel._input_request\u001b[1;34m(self, prompt, ident, parent, password)\u001b[0m\n\u001b[0;32m   1242\u001b[0m \u001b[38;5;28;01mexcept\u001b[39;00m \u001b[38;5;167;01mKeyboardInterrupt\u001b[39;00m:\n\u001b[0;32m   1243\u001b[0m     \u001b[38;5;66;03m# re-raise KeyboardInterrupt, to truncate traceback\u001b[39;00m\n\u001b[0;32m   1244\u001b[0m     msg \u001b[38;5;241m=\u001b[39m \u001b[38;5;124m\"\u001b[39m\u001b[38;5;124mInterrupted by user\u001b[39m\u001b[38;5;124m\"\u001b[39m\n\u001b[1;32m-> 1245\u001b[0m     \u001b[38;5;28;01mraise\u001b[39;00m \u001b[38;5;167;01mKeyboardInterrupt\u001b[39;00m(msg) \u001b[38;5;28;01mfrom\u001b[39;00m \u001b[38;5;28;01mNone\u001b[39;00m\n\u001b[0;32m   1246\u001b[0m \u001b[38;5;28;01mexcept\u001b[39;00m \u001b[38;5;167;01mException\u001b[39;00m:\n\u001b[0;32m   1247\u001b[0m     \u001b[38;5;28mself\u001b[39m\u001b[38;5;241m.\u001b[39mlog\u001b[38;5;241m.\u001b[39mwarning(\u001b[38;5;124m\"\u001b[39m\u001b[38;5;124mInvalid Message:\u001b[39m\u001b[38;5;124m\"\u001b[39m, exc_info\u001b[38;5;241m=\u001b[39m\u001b[38;5;28;01mTrue\u001b[39;00m)\n",
      "\u001b[1;31mKeyboardInterrupt\u001b[0m: Interrupted by user"
     ]
    }
   ],
   "source": [
    "print(\"Adivina el número del 0 al 20 que piensa mi ordenador\")\n",
    "print(\"Tendras 10 intentos disponibles y si aciertas tendras 10 mas\")\n",
    "i = 10\n",
    "import random\n",
    "computerNumber= random.randrange(1,20)\n",
    "while i > 0:\n",
    "    userNumber= input(\"Elegiste el número: \")\n",
    "    if int(userNumber) == computerNumber:\n",
    "        print(\"Excelente, adivinaste y ganaste\")\n",
    "        break\n",
    "    else:\n",
    "        print(\"jeje Fallaste!!\")\n",
    "        if int(userNumber) > computerNumber:\n",
    "            print(\"el número de mi ordenador es menor que el tuyo\")\n",
    "        else:\n",
    "            print(\"el número de mi ordenador es mayor que el tuyo\")\n",
    "        i=i-1\n",
    "        if i > 0:\n",
    "            print (\"Te quedan \",i,\" intentos disponibles\")\n",
    "            continue\n",
    "        else: \n",
    "            print (\"No te quedan mas intentos disponibles\")\n",
    "            print (\"El número de mi ordenador es: \",computerNumber, \" y tu elegiste \",userNumber)\n",
    "            "
   ]
  },
  {
   "cell_type": "code",
   "execution_count": null,
   "id": "17b8bbc3",
   "metadata": {},
   "outputs": [],
   "source": []
  },
  {
   "cell_type": "code",
   "execution_count": null,
   "id": "cc76d45a",
   "metadata": {},
   "outputs": [],
   "source": []
  },
  {
   "cell_type": "code",
   "execution_count": null,
   "id": "4c2e9125",
   "metadata": {},
   "outputs": [],
   "source": []
  }
 ],
 "metadata": {
  "kernelspec": {
   "display_name": "Python 3 (ipykernel)",
   "language": "python",
   "name": "python3"
  },
  "language_info": {
   "codemirror_mode": {
    "name": "ipython",
    "version": 3
   },
   "file_extension": ".py",
   "mimetype": "text/x-python",
   "name": "python",
   "nbconvert_exporter": "python",
   "pygments_lexer": "ipython3",
   "version": "3.11.5"
  }
 },
 "nbformat": 4,
 "nbformat_minor": 5
}
