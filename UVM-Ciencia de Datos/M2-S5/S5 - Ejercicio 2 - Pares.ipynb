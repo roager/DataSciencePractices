{
 "cells": [
  {
   "cell_type": "markdown",
   "id": "7f37da72",
   "metadata": {},
   "source": [
    "# Solicitar al usuario que ingrese 5 números enteros\n"
   ]
  },
  {
   "cell_type": "code",
   "execution_count": 11,
   "id": "d963f8c2",
   "metadata": {},
   "outputs": [
    {
     "name": "stdout",
     "output_type": "stream",
     "text": [
      "Ingresa 5 numeros para generar una lista\n",
      "Elegiste el número: 1\n",
      "Elegiste el número: 2\n",
      "Elegiste el número: 3\n",
      "Elegiste el número: 4\n",
      "Elegiste el número: 5\n",
      "tu lista tiene los elementos:  ['1', '2', '3', '4', '5']\n"
     ]
    }
   ],
   "source": [
    "print (\"Ingresa 5 numeros para generar una lista\")\n",
    "numberOne= input(\"Elegiste el número: \")\n",
    "numberTwo= input(\"Elegiste el número: \")\n",
    "numberThree= input(\"Elegiste el número: \")\n",
    "numberFour= input(\"Elegiste el número: \")\n",
    "numberFive= input(\"Elegiste el número: \")\n",
    "\n",
    "lista=[numberOne,numberTwo,numberThree,numberFour,numberFive]\n",
    "print (\"tu lista tiene los elementos: \", lista)"
   ]
  },
  {
   "cell_type": "markdown",
   "id": "3bee3a85",
   "metadata": {},
   "source": [
    "# 2. Contar cuántos de esos números son pares y cuántos son impares.\n"
   ]
  },
  {
   "cell_type": "code",
   "execution_count": 13,
   "id": "a9731d30",
   "metadata": {},
   "outputs": [
    {
     "name": "stdout",
     "output_type": "stream",
     "text": [
      "Ingresa 5 numeros para generar una lista\n",
      "Elegiste el número: 1\n",
      "Elegiste el número: 2\n",
      "Elegiste el número: 3\n",
      "Elegiste el número: 4\n",
      "Elegiste el número: 5\n",
      "0\n",
      "1\n",
      "2\n",
      "3\n",
      "4\n",
      "3\n"
     ]
    }
   ],
   "source": [
    "print (\"Ingresa 5 numeros para generar una lista\")\n",
    "numberOne= input(\"Elegiste el número: \")\n",
    "numberTwo= input(\"Elegiste el número: \")\n",
    "numberThree= input(\"Elegiste el número: \")\n",
    "numberFour= input(\"Elegiste el número: \")\n",
    "numberFive= input(\"Elegiste el número: \")\n",
    "\n",
    "lista=[numberOne,numberTwo,numberThree,numberFour,numberFive]\n",
    "\n",
    "pares=0\n",
    "for i in range (len (lista)):\n",
    "    print (i)\n",
    "    if i % 2 == 0:\n",
    "        pares+=1 #si es cero definimos que es par\n",
    "print (pares)"
   ]
  },
  {
   "cell_type": "markdown",
   "id": "7f4a4570",
   "metadata": {},
   "source": [
    "#3. Mostrar el resultado al usuario."
   ]
  },
  {
   "cell_type": "code",
   "execution_count": 21,
   "id": "3c7c8c8f",
   "metadata": {},
   "outputs": [
    {
     "name": "stdout",
     "output_type": "stream",
     "text": [
      "Ingresa 5 numeros para generar una lista\n",
      "Elegiste el número: 2\n",
      "Elegiste el número: 2\n",
      "Elegiste el número: 2\n",
      "Elegiste el número: 2\n",
      "Elegiste el número: 1\n",
      "Lugar  0  tiene el valor  2\n",
      "Lugar  1  tiene el valor  2\n",
      "Lugar  2  tiene el valor  2\n",
      "Lugar  3  tiene el valor  2\n",
      "Lugar  4  tiene el valor  1\n",
      "tienes  4  numeros pares\n"
     ]
    }
   ],
   "source": [
    "print (\"Ingresa 5 numeros para generar una lista\")\n",
    "numberOne= input(\"Elegiste el número: \")\n",
    "numberTwo= input(\"Elegiste el número: \")\n",
    "numberThree= input(\"Elegiste el número: \")\n",
    "numberFour= input(\"Elegiste el número: \")\n",
    "numberFive= input(\"Elegiste el número: \")\n",
    "lista=[numberOne,numberTwo,numberThree,numberFour,numberFive]\n",
    "\n",
    "pares=0\n",
    "for i in range (len (lista)):\n",
    "    print ('Lugar ',i,' tiene el valor ',lista[i])\n",
    "    if int(lista[i]) % 2 == 0:\n",
    "        pares+=1 #si es cero definimos que es par\n",
    "print (\"tienes \",pares,\" numeros pares\")"
   ]
  },
  {
   "cell_type": "code",
   "execution_count": null,
   "id": "443a662d",
   "metadata": {},
   "outputs": [],
   "source": []
  }
 ],
 "metadata": {
  "kernelspec": {
   "display_name": "Python 3 (ipykernel)",
   "language": "python",
   "name": "python3"
  },
  "language_info": {
   "codemirror_mode": {
    "name": "ipython",
    "version": 3
   },
   "file_extension": ".py",
   "mimetype": "text/x-python",
   "name": "python",
   "nbconvert_exporter": "python",
   "pygments_lexer": "ipython3",
   "version": "3.11.5"
  }
 },
 "nbformat": 4,
 "nbformat_minor": 5
}
