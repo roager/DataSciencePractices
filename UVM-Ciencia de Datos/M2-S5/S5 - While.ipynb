{
 "cells": [
  {
   "cell_type": "code",
   "execution_count": 3,
   "id": "a62eb13f",
   "metadata": {},
   "outputs": [
    {
     "name": "stdout",
     "output_type": "stream",
     "text": [
      "Ingrese el monto a retirar:1000\n",
      "Día: 1. Saldo: 0\n",
      "Ingrese el monto a retirar:1\n",
      "El monto del retiro supera el saldo disponible\n",
      "Fin del programa.\n"
     ]
    }
   ],
   "source": [
    "# BREAK\n",
    "saldo = 1000\n",
    "dia =0\n",
    "while saldo >= 0:\n",
    "    #ActuaLizar dia\n",
    "    dia += 1\n",
    "    # Introducir el monto del retiro\n",
    "    retiro = int(input('Ingrese el monto a retirar:'))\n",
    "    # Agregar el break del ejemplo anterior para evitar retirar \n",
    "    # un monto mayor al saldo\n",
    "    if retiro > saldo:\n",
    "        print('El monto del retiro supera el saldo disponible') \n",
    "        break\n",
    "    # No permitir al usuario retirar dinero en el día 3\n",
    "    if dia == 3:\n",
    "        print('Su cuenta está en mantenimiento. No puede retirar dinero') \n",
    "        continue\n",
    "\n",
    "    # ActuaLízar el saldo \n",
    "    saldo -= retiro\n",
    "    # Imprimir día y suido\n",
    "    print(f'Día: {dia}. Saldo: {saldo}') \n",
    "print('Fin del programa.')\n"
   ]
  }
 ],
 "metadata": {
  "kernelspec": {
   "display_name": "Python 3 (ipykernel)",
   "language": "python",
   "name": "python3"
  },
  "language_info": {
   "codemirror_mode": {
    "name": "ipython",
    "version": 3
   },
   "file_extension": ".py",
   "mimetype": "text/x-python",
   "name": "python",
   "nbconvert_exporter": "python",
   "pygments_lexer": "ipython3",
   "version": "3.11.5"
  }
 },
 "nbformat": 4,
 "nbformat_minor": 5
}
