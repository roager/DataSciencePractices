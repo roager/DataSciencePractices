{
 "cells": [
  {
   "cell_type": "markdown",
   "id": "ecf1610c",
   "metadata": {},
   "source": [
    "# Tema: Encapsulamiento y Abstracción\n",
    "### Gerardo Rodríguez\n",
    "## Objetivo: Crear una clase CuentaBancariaque tenga atributos privados como saldo y numero_de_cuenta, y métodos públicos para depositar, retirary mostrar el saldo.\n",
    "## Implementación:\n",
    "### •Definir la clase Cuenta Bancaria y sus dos atributos, saldo(inicializado en 0) y numero_de_cuenta\n",
    "### •Definir los métodos depositar, retirar y mostrar\n",
    "### •Asegurarse de que el saldo no pueda ser accedido o modificado directamente, sino sólo a través de los métodos de la clase\n",
    "### •El método retirar, asegurarse de que no se retire más dinero del disponible"
   ]
  },
  {
   "cell_type": "code",
   "execution_count": 1,
   "id": "6afdd8ba",
   "metadata": {},
   "outputs": [],
   "source": [
    "# Definir la clase Cuenta Bancaria y sus dos atributos, saldo(inicializado en 0) y numero_de_cuenta\n",
    "class CuentaBancaria:\n",
    "    def __init__(self, numeroDeCuenta, nombreCliente, saldo):\n",
    "        self.__numeroDeCuenta = numeroDeCuenta\n",
    "        self.nombreCliente = nombreCliente\n",
    "        self.__saldo = saldo\n",
    "# Definir los métodos depositar, retirar y mostrar\n",
    "    def mostrarSaldo(self):\n",
    "        '''Permite mostrar el saldo disponible'''\n",
    "        print (self.__saldo) # siempre con 2 guiones bajos\n",
    "    def depositar(self, monto):\n",
    "        '''Permite agregar una cierta cantidad de dinero al saldo disponible'''\n",
    "        self.__saldo += monto # siempre con 2 guiones bajos\n",
    "    def retirar(self, monto):\n",
    "        '''Permite retirar una cierta cantidad de dinero del saldo disponible, \n",
    "        siempre y cuando este monto no supere el saldo disponible (de lo contrario\n",
    "        aparece impreso un mensaje en pantalla)'''\n",
    "        if monto < self.__saldo: \n",
    "            self.__saldo -= monto \n",
    "        else:\n",
    "            print('El monto a retirar supera el saldo disponible.')"
   ]
  },
  {
   "cell_type": "code",
   "execution_count": 2,
   "id": "43808945",
   "metadata": {},
   "outputs": [],
   "source": [
    "cliente1 = CuentaBancaria('00001','Juan Pérez', 0)\n",
    "cliente2 = CuentaBancaria('00002','Luisa Rodríguez', 0)"
   ]
  },
  {
   "cell_type": "code",
   "execution_count": 3,
   "id": "f37795b1",
   "metadata": {},
   "outputs": [
    {
     "name": "stdout",
     "output_type": "stream",
     "text": [
      "0\n"
     ]
    }
   ],
   "source": [
    "cliente1.mostrarSaldo()"
   ]
  },
  {
   "cell_type": "code",
   "execution_count": 4,
   "id": "6567b9bc",
   "metadata": {},
   "outputs": [
    {
     "name": "stdout",
     "output_type": "stream",
     "text": [
      "Juan Pérez\n"
     ]
    },
    {
     "ename": "AttributeError",
     "evalue": "'CuentaBancaria' object has no attribute 'saldo'",
     "output_type": "error",
     "traceback": [
      "\u001b[1;31m---------------------------------------------------------------------------\u001b[0m",
      "\u001b[1;31mAttributeError\u001b[0m                            Traceback (most recent call last)",
      "Cell \u001b[1;32mIn[4], line 3\u001b[0m\n\u001b[0;32m      1\u001b[0m \u001b[38;5;66;03m#No deja imprimir la variable privada\u001b[39;00m\n\u001b[0;32m      2\u001b[0m \u001b[38;5;28mprint\u001b[39m(cliente1\u001b[38;5;241m.\u001b[39mnombreCliente)\n\u001b[1;32m----> 3\u001b[0m \u001b[38;5;28mprint\u001b[39m(cliente1\u001b[38;5;241m.\u001b[39msaldo)\n\u001b[0;32m      4\u001b[0m \u001b[38;5;28mprint\u001b[39m(cliente2\u001b[38;5;241m.\u001b[39mnombreCliente)\n\u001b[0;32m      5\u001b[0m \u001b[38;5;28mprint\u001b[39m(cliente2\u001b[38;5;241m.\u001b[39msaldo)\n",
      "\u001b[1;31mAttributeError\u001b[0m: 'CuentaBancaria' object has no attribute 'saldo'"
     ]
    }
   ],
   "source": [
    "#No deja imprimir la variable privada\n",
    "print(cliente1.nombreCliente)\n",
    "print(cliente1.saldo)"
   ]
  },
  {
   "cell_type": "code",
   "execution_count": 5,
   "id": "f6ca5a05",
   "metadata": {},
   "outputs": [
    {
     "name": "stdout",
     "output_type": "stream",
     "text": [
      "Luisa Rodríguez\n"
     ]
    },
    {
     "ename": "AttributeError",
     "evalue": "'CuentaBancaria' object has no attribute 'saldo'",
     "output_type": "error",
     "traceback": [
      "\u001b[1;31m---------------------------------------------------------------------------\u001b[0m",
      "\u001b[1;31mAttributeError\u001b[0m                            Traceback (most recent call last)",
      "Cell \u001b[1;32mIn[5], line 3\u001b[0m\n\u001b[0;32m      1\u001b[0m \u001b[38;5;66;03m#No deja imprimir la variable privada\u001b[39;00m\n\u001b[0;32m      2\u001b[0m \u001b[38;5;28mprint\u001b[39m(cliente2\u001b[38;5;241m.\u001b[39mnombreCliente)\n\u001b[1;32m----> 3\u001b[0m \u001b[38;5;28mprint\u001b[39m(cliente2\u001b[38;5;241m.\u001b[39msaldo)\n",
      "\u001b[1;31mAttributeError\u001b[0m: 'CuentaBancaria' object has no attribute 'saldo'"
     ]
    }
   ],
   "source": [
    "#No deja imprimir la variable privada\n",
    "print(cliente2.nombreCliente)\n",
    "print(cliente2.saldo)"
   ]
  },
  {
   "cell_type": "code",
   "execution_count": 6,
   "id": "1f660443",
   "metadata": {},
   "outputs": [],
   "source": [
    "cliente1.depositar(50000)"
   ]
  },
  {
   "cell_type": "code",
   "execution_count": 7,
   "id": "55629792",
   "metadata": {},
   "outputs": [
    {
     "name": "stdout",
     "output_type": "stream",
     "text": [
      "50000\n"
     ]
    }
   ],
   "source": [
    "cliente1.mostrarSaldo()"
   ]
  },
  {
   "cell_type": "code",
   "execution_count": 8,
   "id": "84d96829",
   "metadata": {},
   "outputs": [
    {
     "name": "stdout",
     "output_type": "stream",
     "text": [
      "El monto a retirar supera el saldo disponible.\n"
     ]
    }
   ],
   "source": [
    "##no se retira más dinero del disponible\n",
    "cliente1.retirar(60000)"
   ]
  },
  {
   "cell_type": "code",
   "execution_count": 9,
   "id": "4b7f2afc",
   "metadata": {},
   "outputs": [
    {
     "name": "stdout",
     "output_type": "stream",
     "text": [
      "0\n"
     ]
    }
   ],
   "source": [
    "cliente2.mostrarSaldo() "
   ]
  },
  {
   "cell_type": "code",
   "execution_count": 10,
   "id": "33f18695",
   "metadata": {},
   "outputs": [],
   "source": [
    "# podemos cambiar el nombre \n",
    "cliente1.nombreCliente = 'Juan Manuel Perez'"
   ]
  },
  {
   "cell_type": "code",
   "execution_count": 11,
   "id": "59a34fa7",
   "metadata": {},
   "outputs": [
    {
     "name": "stdout",
     "output_type": "stream",
     "text": [
      "Juan Manuel Perez\n"
     ]
    }
   ],
   "source": [
    "print (cliente1.nombreCliente)"
   ]
  },
  {
   "cell_type": "code",
   "execution_count": null,
   "id": "d2b6319b",
   "metadata": {},
   "outputs": [],
   "source": []
  }
 ],
 "metadata": {
  "kernelspec": {
   "display_name": "Python 3 (ipykernel)",
   "language": "python",
   "name": "python3"
  },
  "language_info": {
   "codemirror_mode": {
    "name": "ipython",
    "version": 3
   },
   "file_extension": ".py",
   "mimetype": "text/x-python",
   "name": "python",
   "nbconvert_exporter": "python",
   "pygments_lexer": "ipython3",
   "version": "3.11.5"
  }
 },
 "nbformat": 4,
 "nbformat_minor": 5
}
