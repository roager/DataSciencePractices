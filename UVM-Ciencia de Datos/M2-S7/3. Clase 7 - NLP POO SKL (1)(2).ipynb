{
 "cells": [
  {
   "cell_type": "markdown",
   "id": "c6ffc317",
   "metadata": {},
   "source": [
    "## Análisis de texto"
   ]
  },
  {
   "cell_type": "code",
   "execution_count": 83,
   "id": "84f9097c",
   "metadata": {},
   "outputs": [
    {
     "name": "stdout",
     "output_type": "stream",
     "text": [
      "19\n",
      "['Bienvenido', 'a', 'Python']\n"
     ]
    }
   ],
   "source": [
    "texto = \"Bienvenido a Python\"\n",
    "print(len(texto))\n",
    "print(texto.split(\" \"))"
   ]
  },
  {
   "cell_type": "code",
   "execution_count": 84,
   "id": "342e18d1",
   "metadata": {},
   "outputs": [
    {
     "data": {
      "text/plain": [
       "'\\t\\t \\n     Este texto contiene espacios en blanco y secuencias de escape \\t \\t'"
      ]
     },
     "execution_count": 84,
     "metadata": {},
     "output_type": "execute_result"
    }
   ],
   "source": [
    "texto = '\\t\\t \\n     Este texto contiene espacios en blanco y secuencias de escape \\t \\t'\n",
    "texto"
   ]
  },
  {
   "cell_type": "code",
   "execution_count": 85,
   "id": "44ae7995",
   "metadata": {},
   "outputs": [
    {
     "data": {
      "text/plain": [
       "'Este texto contiene espacios en blanco y secuencias de escape'"
      ]
     },
     "execution_count": 85,
     "metadata": {},
     "output_type": "execute_result"
    }
   ],
   "source": [
    "# El método strip elimina estos espacios\n",
    "texto_sin_espacios = texto.strip()\n",
    "texto_sin_espacios"
   ]
  },
  {
   "cell_type": "code",
   "execution_count": 89,
   "id": "1f750182",
   "metadata": {},
   "outputs": [
    {
     "name": "stdout",
     "output_type": "stream",
     "text": [
      "Barcelona es una ciudad vibrante, llena de historia y arte. Las calles de la ciudad gótica resuenan con los pasos de los turistas que admiran la arquitectura antigua. El clima mediterráneo aporta días soleados y noches frescas, ideales para disfrutar de las playas locales. Además, la gastronomía catalana es reconocida por su diversidad y sabor único. ¡Amo esta ciudad!\n"
     ]
    },
    {
     "data": {
      "text/plain": [
       "3"
      ]
     },
     "execution_count": 89,
     "metadata": {},
     "output_type": "execute_result"
    }
   ],
   "source": [
    "# Método count cuenta el número de ocurrencias de un substring\n",
    "\n",
    "texto = \"Barcelona es una ciudad vibrante, llena de historia y arte. Las calles de la ciudad gótica resuenan con los pasos de los turistas que admiran la arquitectura antigua. El clima mediterráneo aporta días soleados y noches frescas, ideales para disfrutar de las playas locales. Además, la gastronomía catalana es reconocida por su diversidad y sabor único. ¡Amo esta ciudad!\"\n",
    "print(texto)\n",
    "\n",
    "texto.count(\"ciudad\")"
   ]
  },
  {
   "cell_type": "code",
   "execution_count": 2,
   "id": "4d73df2c",
   "metadata": {},
   "outputs": [
    {
     "name": "stdout",
     "output_type": "stream",
     "text": [
      "lona es una ciudad vibrante, llena de hi\n"
     ]
    }
   ],
   "source": [
    "print(texto[5:45])"
   ]
  },
  {
   "cell_type": "code",
   "execution_count": 87,
   "id": "49dde9ef",
   "metadata": {},
   "outputs": [
    {
     "data": {
      "text/plain": [
       "1"
      ]
     },
     "execution_count": 87,
     "metadata": {},
     "output_type": "execute_result"
    }
   ],
   "source": [
    "texto.count(\"ciudad\",5,45)"
   ]
  },
  {
   "cell_type": "code",
   "execution_count": 5,
   "id": "9d896cc2",
   "metadata": {},
   "outputs": [
    {
     "data": {
      "text/plain": [
       "17"
      ]
     },
     "execution_count": 5,
     "metadata": {},
     "output_type": "execute_result"
    }
   ],
   "source": [
    "# Método index encuentra la primera posición en la que aparece un substring\n",
    "texto.index(\"ciudad\")"
   ]
  },
  {
   "cell_type": "code",
   "execution_count": 92,
   "id": "158737e9",
   "metadata": {},
   "outputs": [
    {
     "data": {
      "text/plain": [
       "False"
      ]
     },
     "execution_count": 92,
     "metadata": {},
     "output_type": "execute_result"
    }
   ],
   "source": [
    "# Podemos preguntar si un substring está contenido a otro\n",
    "\"agua\" in texto"
   ]
  },
  {
   "cell_type": "code",
   "execution_count": 93,
   "id": "99337494",
   "metadata": {},
   "outputs": [
    {
     "data": {
      "text/plain": [
       "False"
      ]
     },
     "execution_count": 93,
     "metadata": {},
     "output_type": "execute_result"
    }
   ],
   "source": [
    "# Verifica si un string comienza con un substring específico\n",
    "texto.startswith(\"En\")"
   ]
  },
  {
   "cell_type": "code",
   "execution_count": 95,
   "id": "c9584b5a",
   "metadata": {},
   "outputs": [
    {
     "data": {
      "text/plain": [
       "False"
      ]
     },
     "execution_count": 95,
     "metadata": {},
     "output_type": "execute_result"
    }
   ],
   "source": [
    "# Verifica si un string termina con un substring específico\n",
    "texto.endswith(\"ciudad!\")"
   ]
  },
  {
   "cell_type": "markdown",
   "id": "561c2a31",
   "metadata": {},
   "source": [
    "## Expresiones regulares"
   ]
  },
  {
   "cell_type": "code",
   "execution_count": 8,
   "id": "42a10cd6",
   "metadata": {},
   "outputs": [],
   "source": [
    "import re"
   ]
  },
  {
   "cell_type": "code",
   "execution_count": 9,
   "id": "8027cbb7",
   "metadata": {},
   "outputs": [],
   "source": [
    "patron = '12345'"
   ]
  },
  {
   "cell_type": "code",
   "execution_count": 12,
   "id": "123dd575",
   "metadata": {},
   "outputs": [
    {
     "name": "stdout",
     "output_type": "stream",
     "text": [
      "<re.Match object; span=(0, 5), match='12345'>\n"
     ]
    }
   ],
   "source": [
    "busqueda = re.fullmatch(patron,'12345')\n",
    "print(busqueda)"
   ]
  },
  {
   "cell_type": "code",
   "execution_count": 97,
   "id": "f9f204b0",
   "metadata": {},
   "outputs": [
    {
     "name": "stdout",
     "output_type": "stream",
     "text": [
      "None\n"
     ]
    }
   ],
   "source": [
    "busqueda = re.fullmatch(patron,'123456')\n",
    "print(busqueda)"
   ]
  },
  {
   "cell_type": "markdown",
   "id": "b9c5fa0f",
   "metadata": {},
   "source": [
    "Meta-caracteres, clases de caracteres y cuantificadores\n",
    "Lo interesante de las Expresiones Regulares no es que el patrón sea idéntico al sub-string que queremos buscar, sino que sea más versátil. \n",
    "\n",
    "Esta versatilidad la agregan \n",
    "- los meta-caracteres\n",
    "- las clases de caracteres\n",
    "- los cuantificadores\n",
    "\n",
    "Meta-caracteres\n",
    "Son símbolos especiales que permiten definir criterios de búsqueda o formas de manipular el texto. Estos son: [], {}, (), \\, *, +, ^, $, ?, . y |\n",
    "\n",
    "Clases de caracteres\n",
    "En un string podemos tener caracteres que representen números, espacios o letras. Dependiendo de la búsqueda que hagamos, podemos combinar el meta-caracter '' con una de las clases de caracteres para por ejemplo buscar sólo números, espacios o letras.\n",
    "\n",
    "Estas clases de caracteres son:\n",
    "\n",
    "\\d: cualquier dígito entre 0 y 9\n",
    "\\D: cualquier caracter que no es un dígito\n",
    "\\s: cualquier caracter que represente un espacio en blanco (espacios, tabulaciones y cambios de línea)\n",
    "\\S: cualquier caracter que no represente un espacio en blanco\n",
    "\\w: cualquier caracter alfanumérico (letras mayúsculas o minúsculas, números y _`)\n",
    "\\W: cualquier caracter que no sea alfanumérico"
   ]
  },
  {
   "cell_type": "code",
   "execution_count": 98,
   "id": "779631ae",
   "metadata": {},
   "outputs": [
    {
     "name": "stdout",
     "output_type": "stream",
     "text": [
      "None\n"
     ]
    }
   ],
   "source": [
    "# Ejemplo: verificar que un string contiene exactamente 5 dígitos\n",
    "string1 = '12345'\n",
    "string2 = 'A1225'\n",
    "patron = '\\d\\d\\d\\d\\d'\n",
    "busqueda = re.fullmatch(patron,string2)\n",
    "print(busqueda)"
   ]
  },
  {
   "cell_type": "code",
   "execution_count": 99,
   "id": "1a4b010d",
   "metadata": {},
   "outputs": [
    {
     "name": "stdout",
     "output_type": "stream",
     "text": [
      "<re.Match object; span=(0, 5), match='12345'>\n"
     ]
    }
   ],
   "source": [
    "busqueda = re.fullmatch(patron,string1)\n",
    "print(busqueda)"
   ]
  },
  {
   "cell_type": "code",
   "execution_count": 18,
   "id": "34eb4203",
   "metadata": {},
   "outputs": [
    {
     "name": "stdout",
     "output_type": "stream",
     "text": [
      "<re.Match object; span=(0, 5), match='45678'>\n"
     ]
    }
   ],
   "source": [
    "patron = '\\d\\d\\d\\d\\d'\n",
    "string3 = '45678'\n",
    "busqueda = re.fullmatch(patron,string3)\n",
    "print(busqueda)"
   ]
  },
  {
   "cell_type": "markdown",
   "id": "0c3bbf30",
   "metadata": {},
   "source": [
    "### Cuantificadores\n",
    "En lugar de escribir \\d\\d\\d\\d\\d podemos escribir \\d{5} para indicar la cantidad de dígitos que queremos buscar. \n",
    "La porción {5} se conoce como un cuantificador"
   ]
  },
  {
   "cell_type": "code",
   "execution_count": 16,
   "id": "605f2087",
   "metadata": {},
   "outputs": [
    {
     "name": "stdout",
     "output_type": "stream",
     "text": [
      "<re.Match object; span=(0, 5), match='45678'>\n"
     ]
    }
   ],
   "source": [
    "patron = '\\d{5}' # Verifica si la secuencia tiene 5 caracteres tipo \"dígito\"\n",
    "busqueda = re.fullmatch(patron,string3)\n",
    "print(busqueda)"
   ]
  },
  {
   "cell_type": "markdown",
   "id": "75cf1f52",
   "metadata": {},
   "source": [
    "### Clases personalizadas"
   ]
  },
  {
   "cell_type": "code",
   "execution_count": 19,
   "id": "093cc15c",
   "metadata": {},
   "outputs": [],
   "source": [
    "# Nombre\n",
    "# - La primer letra debe estar en mayúscula -> '[A-Z]'\n",
    "# - Las letras siguientes deben estar en minúscula ('[a-z]')\n",
    "#   y no importa la cantidad ('*')\n",
    "patron = '[A-Z][a-z]*\\s*[A-Z]*[a-z]*'\n",
    "\n",
    "string1 = 'Ana'\n",
    "string2 = 'Luis Carlos'\n",
    "string3 = 'edgar'"
   ]
  },
  {
   "cell_type": "code",
   "execution_count": 29,
   "id": "069b4f0a",
   "metadata": {},
   "outputs": [],
   "source": [
    "# Nombre\n",
    "# - La primer letra debe estar en mayúscula -> '[A-Z]'\n",
    "# - Las letras siguientes deben estar en minúscula ('[a-z]')\n",
    "#   y no importa la cantidad ('*')\n",
    "patron = '[A-Z][a-z]*'\n",
    "\n",
    "string1 = 'Ana'\n",
    "string2 = 'Luis Carlos'\n",
    "string3 = 'edgar'"
   ]
  },
  {
   "cell_type": "code",
   "execution_count": 30,
   "id": "2219e6b0",
   "metadata": {},
   "outputs": [
    {
     "name": "stdout",
     "output_type": "stream",
     "text": [
      "<re.Match object; span=(0, 6), match='1edgar'>\n"
     ]
    }
   ],
   "source": [
    "busqueda = re.fullmatch(patron,string3)\n",
    "print(busqueda)"
   ]
  },
  {
   "cell_type": "code",
   "execution_count": 24,
   "id": "1d9b070f",
   "metadata": {},
   "outputs": [
    {
     "name": "stdout",
     "output_type": "stream",
     "text": [
      "None\n"
     ]
    }
   ],
   "source": [
    "busqueda = re.fullmatch(patron,string2)\n",
    "print(busqueda)"
   ]
  },
  {
   "cell_type": "code",
   "execution_count": 22,
   "id": "d2d92eff",
   "metadata": {},
   "outputs": [
    {
     "name": "stdout",
     "output_type": "stream",
     "text": [
      "<re.Match object; span=(0, 3), match='Ana'>\n"
     ]
    }
   ],
   "source": [
    "busqueda = re.fullmatch(patron,string1)\n",
    "print(busqueda)"
   ]
  },
  {
   "cell_type": "code",
   "execution_count": 31,
   "id": "cc7fac47",
   "metadata": {},
   "outputs": [],
   "source": [
    "# Ejemplo: verificar que una palabra está escrita en minúscula ('[^A-Z]')\n",
    "# sin importar su extensión ('*')\n",
    "string1 = 'tomates'\n",
    "string2 = 'CALABAZAS'\n",
    "patron = '[^A-Z]*'"
   ]
  },
  {
   "cell_type": "code",
   "execution_count": 32,
   "id": "9762b9a9",
   "metadata": {},
   "outputs": [
    {
     "name": "stdout",
     "output_type": "stream",
     "text": [
      "None\n"
     ]
    }
   ],
   "source": [
    "busqueda = re.fullmatch(patron,string2)\n",
    "print(busqueda)"
   ]
  },
  {
   "cell_type": "code",
   "execution_count": 33,
   "id": "9d9c9c84",
   "metadata": {},
   "outputs": [
    {
     "name": "stdout",
     "output_type": "stream",
     "text": [
      "<re.Match object; span=(0, 7), match='tomates'>\n"
     ]
    }
   ],
   "source": [
    "busqueda = re.fullmatch(patron,string1)\n",
    "print(busqueda)"
   ]
  },
  {
   "cell_type": "code",
   "execution_count": 120,
   "id": "8758f54a",
   "metadata": {},
   "outputs": [
    {
     "name": "stdout",
     "output_type": "stream",
     "text": [
      "Tengo-espacios-en-Blanco\n"
     ]
    }
   ],
   "source": [
    "# Definamos el patrón y el texto por el cual reemplazaremos los espacios\n",
    "texto = 'Tengo espacios en Blanco'\n",
    "patron = '\\s'\n",
    "reemplazo = '-'\n",
    "texto2 = re.sub(patron,reemplazo,texto)\n",
    "print(texto2)"
   ]
  },
  {
   "cell_type": "code",
   "execution_count": 51,
   "id": "c8e9deff",
   "metadata": {},
   "outputs": [],
   "source": [
    "# Ahora validemos que un texto tiene cierta estructura:\n",
    "# 1 - Nombre Apellido (tamaño variable): [A-Z][a-z]+ [A-Z][a-z]+\n",
    "# 2 - \", email: \": caracteres literales\n",
    "# 3 - La dirección de email: \\w+@\\w+\\.\\w{3}\n",
    "patron = '([A-Z][a-z]+ [A-Z][a-z]+), email: (\\w+@\\w+\\.\\w{3})'\n",
    "\n",
    "# Aquí tenemos un ejemplo\n",
    "alumno = 'Laura\\nDuque, email: laura@gmail.com'"
   ]
  },
  {
   "cell_type": "code",
   "execution_count": 52,
   "id": "a938b2e4",
   "metadata": {},
   "outputs": [],
   "source": [
    "# Como nombre y apellido y la dirección serán sub-strings dentro de la\n",
    "# búsqueda, los debemos escribir entre paréntesis\n",
    "resultado = re.search(patron, alumno)\n",
    "resultado"
   ]
  },
  {
   "cell_type": "code",
   "execution_count": 127,
   "id": "3d45e122",
   "metadata": {},
   "outputs": [],
   "source": [
    "alumno = 'José Luis Duque, email: '\n",
    "resultado = re.search(patron, alumno)\n",
    "resultado"
   ]
  },
  {
   "cell_type": "code",
   "execution_count": 124,
   "id": "b2e1f3fd",
   "metadata": {},
   "outputs": [
    {
     "data": {
      "text/plain": [
       "['1998/01/01', '2011/03/01', '2002/05/07']"
      ]
     },
     "execution_count": 124,
     "metadata": {},
     "output_type": "execute_result"
    }
   ],
   "source": [
    "# Extraer todas las fechas de nacimiento:\n",
    "fechas = 'Claudio: 1998/01/01, Alicia: 2011/03/01, Roxane: 2002/05/07'\n",
    "patron = '\\d{4}/\\d{2}/\\d{2}'\n",
    "resultado = re.findall(patron, fechas)\n",
    "resultado"
   ]
  },
  {
   "cell_type": "markdown",
   "id": "378f490c",
   "metadata": {},
   "source": [
    "### Split"
   ]
  },
  {
   "cell_type": "code",
   "execution_count": 64,
   "id": "3c997b3d",
   "metadata": {},
   "outputs": [
    {
     "data": {
      "text/plain": [
       "'Veinte: 20 Dieciocho: 18 Nueve: 9'"
      ]
     },
     "execution_count": 64,
     "metadata": {},
     "output_type": "execute_result"
    }
   ],
   "source": [
    "texto = 'Veinte: 20 Dieciocho: 18 Nueve: 9'\n",
    "texto"
   ]
  },
  {
   "cell_type": "code",
   "execution_count": 129,
   "id": "91531606",
   "metadata": {},
   "outputs": [
    {
     "name": "stdout",
     "output_type": "stream",
     "text": [
      "['Veinte: ', ' Dieciocho: ', ' Nueve: ', '']\n"
     ]
    }
   ],
   "source": [
    "# Conservemos sólo las palabras y eliminemos los dígitos\n",
    "patron = '\\d+' # \"+\" para que busque todas las ocurrencias tipo \"\\d\"\n",
    "texto2 = re.split(patron,texto)\n",
    "print(texto2)"
   ]
  },
  {
   "cell_type": "code",
   "execution_count": 131,
   "id": "f2b1eff2",
   "metadata": {},
   "outputs": [
    {
     "name": "stdout",
     "output_type": "stream",
     "text": [
      "['Veinte: ', ' Dieciocho: 18 Nueve: 9']\n"
     ]
    }
   ],
   "source": [
    "# Podemos especificar el máximo número de particiones a realizar\n",
    "texto3 = re.split(patron,texto,maxsplit=1)\n",
    "print(texto3)"
   ]
  },
  {
   "cell_type": "code",
   "execution_count": 133,
   "id": "e01863e6",
   "metadata": {},
   "outputs": [
    {
     "data": {
      "text/plain": [
       "'Mi hermana tiene un chihuahua negro, se llama Capulín'"
      ]
     },
     "execution_count": 133,
     "metadata": {},
     "output_type": "execute_result"
    }
   ],
   "source": [
    "texto = 'Mi hermana tiene un chihuahua negro, se llama capulín'\n",
    "texto = texto.replace('capulín','Capulín')\n",
    "texto"
   ]
  },
  {
   "cell_type": "markdown",
   "id": "79597649",
   "metadata": {},
   "source": [
    "## NLTK"
   ]
  },
  {
   "cell_type": "markdown",
   "id": "78a4f57b",
   "metadata": {},
   "source": [
    "# Anaconda Prompt\n",
    "conda activate myenv\n",
    "conda install -c anaconda nltk\n",
    "\n",
    "pip install nltk"
   ]
  },
  {
   "cell_type": "code",
   "execution_count": 6,
   "id": "342f6a2f",
   "metadata": {
    "scrolled": true
   },
   "outputs": [
    {
     "name": "stderr",
     "output_type": "stream",
     "text": [
      "[nltk_data] Downloading package stopwords to\n",
      "[nltk_data]     C:\\Users\\ninai\\AppData\\Roaming\\nltk_data...\n",
      "[nltk_data]   Package stopwords is already up-to-date!\n",
      "[nltk_data] Downloading package punkt to\n",
      "[nltk_data]     C:\\Users\\ninai\\AppData\\Roaming\\nltk_data...\n",
      "[nltk_data]   Package punkt is already up-to-date!\n"
     ]
    },
    {
     "data": {
      "text/plain": [
       "True"
      ]
     },
     "execution_count": 6,
     "metadata": {},
     "output_type": "execute_result"
    }
   ],
   "source": [
    "import nltk\n",
    "nltk.download(\"stopwords\")\n",
    "nltk.download(\"punkt\")"
   ]
  },
  {
   "cell_type": "code",
   "execution_count": 135,
   "id": "cb484d48",
   "metadata": {},
   "outputs": [
    {
     "data": {
      "text/plain": [
       "['Hola', ',', '¿cómo', 'estás', '?', '¡Espero', 'que', 'bien', '!']"
      ]
     },
     "execution_count": 135,
     "metadata": {},
     "output_type": "execute_result"
    }
   ],
   "source": [
    "from nltk.tokenize import word_tokenize, sent_tokenize\n",
    "\n",
    "texto = \"Hola, ¿cómo estás? ¡Espero que bien!\"\n",
    "palabras = word_tokenize(texto, language=\"spanish\")\n",
    "oraciones = sent_tokenize(texto, language=\"spanish\")\n",
    "palabras"
   ]
  },
  {
   "cell_type": "code",
   "execution_count": 9,
   "id": "6d6733b7",
   "metadata": {},
   "outputs": [
    {
     "name": "stdout",
     "output_type": "stream",
     "text": [
      "['Hola, ¿cómo estás?', '¡Espero que bien!']\n"
     ]
    }
   ],
   "source": [
    "print(oraciones)"
   ]
  },
  {
   "cell_type": "code",
   "execution_count": 10,
   "id": "85f7379b",
   "metadata": {},
   "outputs": [
    {
     "name": "stdout",
     "output_type": "stream",
     "text": [
      "['Hola', ',', '¿cómo', 'estás', '?', '¡Espero', 'que', 'bien', '!']\n"
     ]
    }
   ],
   "source": [
    "print(palabras)"
   ]
  },
  {
   "cell_type": "code",
   "execution_count": 136,
   "id": "ddb434aa",
   "metadata": {},
   "outputs": [],
   "source": [
    "# Stopwprds\n",
    "from nltk.corpus import stopwords\n",
    "\n",
    "palabras_filtradas = [palabra for palabra in palabras if palabra.lower() not in stopwords.words('spanish')]"
   ]
  },
  {
   "cell_type": "code",
   "execution_count": 137,
   "id": "0401d443",
   "metadata": {},
   "outputs": [
    {
     "name": "stdout",
     "output_type": "stream",
     "text": [
      "['Hola', ',', '¿cómo', '?', '¡Espero', 'bien', '!']\n"
     ]
    }
   ],
   "source": [
    "print(palabras_filtradas)"
   ]
  },
  {
   "cell_type": "code",
   "execution_count": 13,
   "id": "54c847c2",
   "metadata": {},
   "outputs": [],
   "source": [
    "# Stemming\n",
    "from nltk.stem import SnowballStemmer\n",
    "\n",
    "stemmer = SnowballStemmer(\"spanish\")\n",
    "palabras_stemmed = [stemmer.stem(palabra) for palabra in palabras_filtradas]"
   ]
  },
  {
   "cell_type": "code",
   "execution_count": 14,
   "id": "998d2c58",
   "metadata": {},
   "outputs": [
    {
     "name": "stdout",
     "output_type": "stream",
     "text": [
      "['hol', ',', '¿com', '?', '¡esper', 'bien', '!']\n"
     ]
    }
   ],
   "source": [
    "print(palabras_stemmed)"
   ]
  },
  {
   "cell_type": "markdown",
   "id": "387e421b",
   "metadata": {},
   "source": [
    "## Programación Orientada a Objetos"
   ]
  },
  {
   "cell_type": "code",
   "execution_count": 170,
   "id": "619a5e98",
   "metadata": {},
   "outputs": [],
   "source": [
    "class Coche:\n",
    "    def __init__(self, color, marca):\n",
    "        self.color = color\n",
    "        self.marca = marca\n",
    "\n",
    "    def mostrar_informacion(self):\n",
    "        print(f\"Coche de color {self.color} de la marca {self.marca}\")"
   ]
  },
  {
   "cell_type": "code",
   "execution_count": 171,
   "id": "7bcf6a48",
   "metadata": {},
   "outputs": [],
   "source": [
    "coche1 = Coche(\"rojo\", \"Toyota\")\n",
    "coche2 = Coche(\"azul\", \"Ford\")"
   ]
  },
  {
   "cell_type": "code",
   "execution_count": 172,
   "id": "d3242329",
   "metadata": {},
   "outputs": [
    {
     "name": "stdout",
     "output_type": "stream",
     "text": [
      "Coche de color rojo de la marca Toyota\n",
      "Coche de color azul de la marca Ford\n"
     ]
    }
   ],
   "source": [
    "coche1.mostrar_informacion()  # Output: Coche de color rojo de la marca Toyota\n",
    "coche2.mostrar_informacion()  # Output: Coche de color azul de la marca Ford"
   ]
  },
  {
   "cell_type": "markdown",
   "id": "9fb58cdd",
   "metadata": {},
   "source": [
    "### Encapsulamiento"
   ]
  },
  {
   "cell_type": "code",
   "execution_count": 5,
   "id": "2184e4e2",
   "metadata": {},
   "outputs": [],
   "source": [
    "class Coche:\n",
    "    def __init__(self, modelo):\n",
    "        self.__modelo = modelo  # atributo privado\n",
    "    \n",
    "    def obtener_modelo(self):  # método público\n",
    "        return self.__modelo"
   ]
  },
  {
   "cell_type": "code",
   "execution_count": 6,
   "id": "a3a9760a",
   "metadata": {},
   "outputs": [],
   "source": [
    "# Creando una instancia de la clase Coche\n",
    "coche = Coche(\"Toyota\")"
   ]
  },
  {
   "cell_type": "code",
   "execution_count": 7,
   "id": "ff2b7b01",
   "metadata": {},
   "outputs": [
    {
     "name": "stdout",
     "output_type": "stream",
     "text": [
      "<class '__main__.Coche'>\n"
     ]
    }
   ],
   "source": [
    "print(type(coche)) # Validando la clase del objeto coche"
   ]
  },
  {
   "cell_type": "code",
   "execution_count": 9,
   "id": "d226da31",
   "metadata": {},
   "outputs": [
    {
     "ename": "AttributeError",
     "evalue": "'Coche' object has no attribute '__modelo'",
     "output_type": "error",
     "traceback": [
      "\u001b[1;31m---------------------------------------------------------------------------\u001b[0m",
      "\u001b[1;31mAttributeError\u001b[0m                            Traceback (most recent call last)",
      "Cell \u001b[1;32mIn[9], line 1\u001b[0m\n\u001b[1;32m----> 1\u001b[0m \u001b[38;5;28mprint\u001b[39m(\u001b[43mcoche\u001b[49m\u001b[38;5;241;43m.\u001b[39;49m\u001b[43m__modelo\u001b[49m)\n",
      "\u001b[1;31mAttributeError\u001b[0m: 'Coche' object has no attribute '__modelo'"
     ]
    }
   ],
   "source": [
    "print(coche.__modelo) # Buscando acceder directamente al modelo de coche"
   ]
  },
  {
   "cell_type": "code",
   "execution_count": 10,
   "id": "d803879b",
   "metadata": {},
   "outputs": [
    {
     "name": "stdout",
     "output_type": "stream",
     "text": [
      "Modelo del coche usando el método público: Toyota\n"
     ]
    }
   ],
   "source": [
    "# Usando el método público obtener_modelo para acceder al atributo privado __modelo\n",
    "print(f\"Modelo del coche usando el método público: {coche.obtener_modelo()}\")"
   ]
  },
  {
   "cell_type": "markdown",
   "id": "52cfb203",
   "metadata": {},
   "source": [
    "### Polimorfismo"
   ]
  },
  {
   "cell_type": "code",
   "execution_count": 5,
   "id": "0e5987d6",
   "metadata": {},
   "outputs": [],
   "source": [
    "class Vehiculo:\n",
    "    def __init__(self, color):\n",
    "        self.color = color\n",
    "\n",
    "class Coche(Vehiculo):\n",
    "    def __init__(self, color, modelo):\n",
    "        super().__init__(color)\n",
    "        self.modelo = modelo"
   ]
  },
  {
   "cell_type": "code",
   "execution_count": 6,
   "id": "09153ecc",
   "metadata": {},
   "outputs": [
    {
     "name": "stdout",
     "output_type": "stream",
     "text": [
      "El vehículo se está moviendo\n",
      "El coche está en movimiento\n",
      "El vehículo se está moviendo\n"
     ]
    }
   ],
   "source": [
    "class Vehiculo:\n",
    "    def moverse(self):\n",
    "        print(\"El vehículo se está moviendo\")\n",
    "\n",
    "class Coche(Vehiculo):\n",
    "    def moverse(self):\n",
    "        print(\"El coche está en movimiento\")\n",
    "\n",
    "class Barco(Vehiculo):\n",
    "    pass\n",
    "\n",
    "vehiculo = Vehiculo()\n",
    "coche = Coche()\n",
    "barco = Barco()\n",
    "\n",
    "for vehiculo in [vehiculo, coche, barco]:\n",
    "    vehiculo.moverse()"
   ]
  },
  {
   "cell_type": "code",
   "execution_count": 65,
   "id": "04da88f7",
   "metadata": {},
   "outputs": [],
   "source": [
    "# Ejemplo de clase Productos Bancarios\n",
    "class ProductoBancario:\n",
    "    '''Clase correspondiente a diferentes productos bancarios'''\n",
    "    \n",
    "    def __init__(self, nombre, valor):\n",
    "        self.cliente = nombre\n",
    "        self.saldo = valor\n",
    "    \n",
    "    def abonar(self, monto):\n",
    "        '''Permite abonar una cierta cantidad de dinero al saldo disponible'''\n",
    "        self.saldo += monto\n",
    "    \n",
    "    def retirar(self, monto):\n",
    "        '''Permite retirar una cierta cantidad de dinero del saldo disponible, \n",
    "        siempre y cuando este monto no supere el saldo disponible (de lo contrario\n",
    "        aparece impreso un mensaje en pantalla)'''\n",
    "        if monto < self.saldo:\n",
    "            self.saldo -= monto\n",
    "        else:\n",
    "            print('El monto a retirar supera el saldo disponible.')"
   ]
  },
  {
   "cell_type": "code",
   "execution_count": 66,
   "id": "966ea591",
   "metadata": {},
   "outputs": [],
   "source": [
    "producto1 = ProductoBancario('Juan Pérez', 200)\n",
    "producto2 = ProductoBancario('Luisa Rodríguez', 100)"
   ]
  },
  {
   "cell_type": "code",
   "execution_count": 67,
   "id": "c028b8e9",
   "metadata": {},
   "outputs": [
    {
     "name": "stdout",
     "output_type": "stream",
     "text": [
      "Juan Pérez\n",
      "200\n",
      "Luisa Rodríguez\n",
      "100\n"
     ]
    }
   ],
   "source": [
    "print(producto1.cliente)\n",
    "print(producto1.saldo)\n",
    "print(producto2.cliente)\n",
    "print(producto2.saldo)"
   ]
  },
  {
   "cell_type": "code",
   "execution_count": 68,
   "id": "9e704a3e",
   "metadata": {},
   "outputs": [],
   "source": [
    "# Podemos acceder a la leyenda de cada método usando \".\" y \"?\"\n",
    "producto1.retirar?"
   ]
  },
  {
   "cell_type": "code",
   "execution_count": 69,
   "id": "049355fa",
   "metadata": {},
   "outputs": [
    {
     "name": "stdout",
     "output_type": "stream",
     "text": [
      "saldo de \"producto1\" antes del depósito:\n",
      "\t\t$200\n",
      "saldo de \"producto1\" después del depósito:\n",
      "\t\t$700\n"
     ]
    }
   ],
   "source": [
    "# Agreguemos dinero al saldo del \"producto1\" \n",
    "print('saldo de \"producto1\" antes del depósito:')\n",
    "print(f'\\t\\t${producto1.saldo}')\n",
    "\n",
    "print('saldo de \"producto1\" después del depósito:')\n",
    "producto1.abonar(500)\n",
    "print(f'\\t\\t${producto1.saldo}')"
   ]
  },
  {
   "cell_type": "code",
   "execution_count": 70,
   "id": "dfdc0efb",
   "metadata": {},
   "outputs": [
    {
     "name": "stdout",
     "output_type": "stream",
     "text": [
      "saldo de \"producto2\" antes del retiro:\n",
      "\t\t$100\n",
      "saldo de \"producto2\" después del retiro:\n",
      "\t\t$1\n"
     ]
    }
   ],
   "source": [
    "# Para el \"producto2\", retiremos dinero sin sobrepasar el saldo existente\n",
    "print('saldo de \"producto2\" antes del retiro:')\n",
    "print(f'\\t\\t${producto2.saldo}')\n",
    "print('saldo de \"producto2\" después del retiro:')\n",
    "producto2.retirar(99)\n",
    "print(f'\\t\\t${producto2.saldo}')"
   ]
  },
  {
   "cell_type": "code",
   "execution_count": 71,
   "id": "334c3ec7",
   "metadata": {},
   "outputs": [
    {
     "name": "stdout",
     "output_type": "stream",
     "text": [
      "saldo de \"producto2\" antes del nuevo retiro:\n",
      "\t\t$1\n",
      "saldo de \"producto2\" después del retiro:\n",
      "El monto a retirar supera el saldo disponible.\n",
      "\t\t$1\n"
     ]
    }
   ],
   "source": [
    "# E intentemos retirar ahora más del saldo disponible\n",
    "print('saldo de \"producto2\" antes del nuevo retiro:')\n",
    "print(f'\\t\\t${producto2.saldo}')\n",
    "print('saldo de \"producto2\" después del retiro:')\n",
    "producto2.retirar(200)\n",
    "print(f'\\t\\t${producto2.saldo}')"
   ]
  },
  {
   "cell_type": "code",
   "execution_count": 74,
   "id": "5f208c2c",
   "metadata": {},
   "outputs": [],
   "source": [
    "class ProductoBancario:\n",
    "    '''Clase correspondiente a diferentes productos bancarios'''\n",
    "    \n",
    "    def __init__(self, nombre, valor):\n",
    "        self.cliente = nombre\n",
    "        self.__saldo = valor  # 2 guiones bajos: privado\n",
    "    \n",
    "    def agregar(self, monto):\n",
    "        '''Permite agregar una cierta cantidad de dinero al saldo disponible'''\n",
    "        self.__saldo += monto # siempre con 2 guiones bajos\n",
    "    \n",
    "    def retirar(self, monto):\n",
    "        '''Permite retirar una cierta cantidad de dinero del saldo disponible, \n",
    "        siempre y cuando este monto no supere el saldo disponible (de lo contrario\n",
    "        aparece impreso un mensaje en pantalla)'''\n",
    "        if monto < self._saldo: \n",
    "            self.__saldo -= monto \n",
    "        else:\n",
    "            print('El monto a retirar supera el saldo disponible.')"
   ]
  },
  {
   "cell_type": "code",
   "execution_count": 77,
   "id": "7b683b05",
   "metadata": {},
   "outputs": [
    {
     "name": "stdout",
     "output_type": "stream",
     "text": [
      "Atributo \"cliente\" creado al momento de instanciar el objeto: Carlos Gómez\n"
     ]
    }
   ],
   "source": [
    "print(f'Atributo \"cliente\" creado al momento de instanciar el objeto: {producto1.cliente}')"
   ]
  },
  {
   "cell_type": "code",
   "execution_count": 76,
   "id": "ce5a9be5",
   "metadata": {},
   "outputs": [
    {
     "name": "stdout",
     "output_type": "stream",
     "text": [
      "\n",
      "*** NO RECOMENDADO ***\n",
      "Atributo \"cliente\" modificado por fuera de la clase: Carlos Gómez\n"
     ]
    }
   ],
   "source": [
    "# NO se recomienda acceder a __init__ desde fuera de la clase\n",
    "producto1.__init__('Carlos Gómez',50)\n",
    "print('\\n*** NO RECOMENDADO ***')\n",
    "print(f'Atributo \"cliente\" modificado por fuera de la clase: {producto1.cliente}')"
   ]
  },
  {
   "cell_type": "markdown",
   "id": "a249857e",
   "metadata": {},
   "source": [
    "## Scikit-Learn"
   ]
  },
  {
   "cell_type": "code",
   "execution_count": 53,
   "id": "57bd938c",
   "metadata": {},
   "outputs": [],
   "source": [
    "from sklearn import datasets\n",
    "from sklearn.model_selection import train_test_split\n",
    "from sklearn.svm import SVC\n",
    "from sklearn.metrics import accuracy_score, confusion_matrix, classification_report"
   ]
  },
  {
   "cell_type": "code",
   "execution_count": 79,
   "id": "6b410a3a",
   "metadata": {},
   "outputs": [
    {
     "name": "stdout",
     "output_type": "stream",
     "text": [
      "{'data': array([[5.1, 3.5, 1.4, 0.2],\n",
      "       [4.9, 3. , 1.4, 0.2],\n",
      "       [4.7, 3.2, 1.3, 0.2],\n",
      "       [4.6, 3.1, 1.5, 0.2],\n",
      "       [5. , 3.6, 1.4, 0.2],\n",
      "       [5.4, 3.9, 1.7, 0.4],\n",
      "       [4.6, 3.4, 1.4, 0.3],\n",
      "       [5. , 3.4, 1.5, 0.2],\n",
      "       [4.4, 2.9, 1.4, 0.2],\n",
      "       [4.9, 3.1, 1.5, 0.1],\n",
      "       [5.4, 3.7, 1.5, 0.2],\n",
      "       [4.8, 3.4, 1.6, 0.2],\n",
      "       [4.8, 3. , 1.4, 0.1],\n",
      "       [4.3, 3. , 1.1, 0.1],\n",
      "       [5.8, 4. , 1.2, 0.2],\n",
      "       [5.7, 4.4, 1.5, 0.4],\n",
      "       [5.4, 3.9, 1.3, 0.4],\n",
      "       [5.1, 3.5, 1.4, 0.3],\n",
      "       [5.7, 3.8, 1.7, 0.3],\n",
      "       [5.1, 3.8, 1.5, 0.3],\n",
      "       [5.4, 3.4, 1.7, 0.2],\n",
      "       [5.1, 3.7, 1.5, 0.4],\n",
      "       [4.6, 3.6, 1. , 0.2],\n",
      "       [5.1, 3.3, 1.7, 0.5],\n",
      "       [4.8, 3.4, 1.9, 0.2],\n",
      "       [5. , 3. , 1.6, 0.2],\n",
      "       [5. , 3.4, 1.6, 0.4],\n",
      "       [5.2, 3.5, 1.5, 0.2],\n",
      "       [5.2, 3.4, 1.4, 0.2],\n",
      "       [4.7, 3.2, 1.6, 0.2],\n",
      "       [4.8, 3.1, 1.6, 0.2],\n",
      "       [5.4, 3.4, 1.5, 0.4],\n",
      "       [5.2, 4.1, 1.5, 0.1],\n",
      "       [5.5, 4.2, 1.4, 0.2],\n",
      "       [4.9, 3.1, 1.5, 0.2],\n",
      "       [5. , 3.2, 1.2, 0.2],\n",
      "       [5.5, 3.5, 1.3, 0.2],\n",
      "       [4.9, 3.6, 1.4, 0.1],\n",
      "       [4.4, 3. , 1.3, 0.2],\n",
      "       [5.1, 3.4, 1.5, 0.2],\n",
      "       [5. , 3.5, 1.3, 0.3],\n",
      "       [4.5, 2.3, 1.3, 0.3],\n",
      "       [4.4, 3.2, 1.3, 0.2],\n",
      "       [5. , 3.5, 1.6, 0.6],\n",
      "       [5.1, 3.8, 1.9, 0.4],\n",
      "       [4.8, 3. , 1.4, 0.3],\n",
      "       [5.1, 3.8, 1.6, 0.2],\n",
      "       [4.6, 3.2, 1.4, 0.2],\n",
      "       [5.3, 3.7, 1.5, 0.2],\n",
      "       [5. , 3.3, 1.4, 0.2],\n",
      "       [7. , 3.2, 4.7, 1.4],\n",
      "       [6.4, 3.2, 4.5, 1.5],\n",
      "       [6.9, 3.1, 4.9, 1.5],\n",
      "       [5.5, 2.3, 4. , 1.3],\n",
      "       [6.5, 2.8, 4.6, 1.5],\n",
      "       [5.7, 2.8, 4.5, 1.3],\n",
      "       [6.3, 3.3, 4.7, 1.6],\n",
      "       [4.9, 2.4, 3.3, 1. ],\n",
      "       [6.6, 2.9, 4.6, 1.3],\n",
      "       [5.2, 2.7, 3.9, 1.4],\n",
      "       [5. , 2. , 3.5, 1. ],\n",
      "       [5.9, 3. , 4.2, 1.5],\n",
      "       [6. , 2.2, 4. , 1. ],\n",
      "       [6.1, 2.9, 4.7, 1.4],\n",
      "       [5.6, 2.9, 3.6, 1.3],\n",
      "       [6.7, 3.1, 4.4, 1.4],\n",
      "       [5.6, 3. , 4.5, 1.5],\n",
      "       [5.8, 2.7, 4.1, 1. ],\n",
      "       [6.2, 2.2, 4.5, 1.5],\n",
      "       [5.6, 2.5, 3.9, 1.1],\n",
      "       [5.9, 3.2, 4.8, 1.8],\n",
      "       [6.1, 2.8, 4. , 1.3],\n",
      "       [6.3, 2.5, 4.9, 1.5],\n",
      "       [6.1, 2.8, 4.7, 1.2],\n",
      "       [6.4, 2.9, 4.3, 1.3],\n",
      "       [6.6, 3. , 4.4, 1.4],\n",
      "       [6.8, 2.8, 4.8, 1.4],\n",
      "       [6.7, 3. , 5. , 1.7],\n",
      "       [6. , 2.9, 4.5, 1.5],\n",
      "       [5.7, 2.6, 3.5, 1. ],\n",
      "       [5.5, 2.4, 3.8, 1.1],\n",
      "       [5.5, 2.4, 3.7, 1. ],\n",
      "       [5.8, 2.7, 3.9, 1.2],\n",
      "       [6. , 2.7, 5.1, 1.6],\n",
      "       [5.4, 3. , 4.5, 1.5],\n",
      "       [6. , 3.4, 4.5, 1.6],\n",
      "       [6.7, 3.1, 4.7, 1.5],\n",
      "       [6.3, 2.3, 4.4, 1.3],\n",
      "       [5.6, 3. , 4.1, 1.3],\n",
      "       [5.5, 2.5, 4. , 1.3],\n",
      "       [5.5, 2.6, 4.4, 1.2],\n",
      "       [6.1, 3. , 4.6, 1.4],\n",
      "       [5.8, 2.6, 4. , 1.2],\n",
      "       [5. , 2.3, 3.3, 1. ],\n",
      "       [5.6, 2.7, 4.2, 1.3],\n",
      "       [5.7, 3. , 4.2, 1.2],\n",
      "       [5.7, 2.9, 4.2, 1.3],\n",
      "       [6.2, 2.9, 4.3, 1.3],\n",
      "       [5.1, 2.5, 3. , 1.1],\n",
      "       [5.7, 2.8, 4.1, 1.3],\n",
      "       [6.3, 3.3, 6. , 2.5],\n",
      "       [5.8, 2.7, 5.1, 1.9],\n",
      "       [7.1, 3. , 5.9, 2.1],\n",
      "       [6.3, 2.9, 5.6, 1.8],\n",
      "       [6.5, 3. , 5.8, 2.2],\n",
      "       [7.6, 3. , 6.6, 2.1],\n",
      "       [4.9, 2.5, 4.5, 1.7],\n",
      "       [7.3, 2.9, 6.3, 1.8],\n",
      "       [6.7, 2.5, 5.8, 1.8],\n",
      "       [7.2, 3.6, 6.1, 2.5],\n",
      "       [6.5, 3.2, 5.1, 2. ],\n",
      "       [6.4, 2.7, 5.3, 1.9],\n",
      "       [6.8, 3. , 5.5, 2.1],\n",
      "       [5.7, 2.5, 5. , 2. ],\n",
      "       [5.8, 2.8, 5.1, 2.4],\n",
      "       [6.4, 3.2, 5.3, 2.3],\n",
      "       [6.5, 3. , 5.5, 1.8],\n",
      "       [7.7, 3.8, 6.7, 2.2],\n",
      "       [7.7, 2.6, 6.9, 2.3],\n",
      "       [6. , 2.2, 5. , 1.5],\n",
      "       [6.9, 3.2, 5.7, 2.3],\n",
      "       [5.6, 2.8, 4.9, 2. ],\n",
      "       [7.7, 2.8, 6.7, 2. ],\n",
      "       [6.3, 2.7, 4.9, 1.8],\n",
      "       [6.7, 3.3, 5.7, 2.1],\n",
      "       [7.2, 3.2, 6. , 1.8],\n",
      "       [6.2, 2.8, 4.8, 1.8],\n",
      "       [6.1, 3. , 4.9, 1.8],\n",
      "       [6.4, 2.8, 5.6, 2.1],\n",
      "       [7.2, 3. , 5.8, 1.6],\n",
      "       [7.4, 2.8, 6.1, 1.9],\n",
      "       [7.9, 3.8, 6.4, 2. ],\n",
      "       [6.4, 2.8, 5.6, 2.2],\n",
      "       [6.3, 2.8, 5.1, 1.5],\n",
      "       [6.1, 2.6, 5.6, 1.4],\n",
      "       [7.7, 3. , 6.1, 2.3],\n",
      "       [6.3, 3.4, 5.6, 2.4],\n",
      "       [6.4, 3.1, 5.5, 1.8],\n",
      "       [6. , 3. , 4.8, 1.8],\n",
      "       [6.9, 3.1, 5.4, 2.1],\n",
      "       [6.7, 3.1, 5.6, 2.4],\n",
      "       [6.9, 3.1, 5.1, 2.3],\n",
      "       [5.8, 2.7, 5.1, 1.9],\n",
      "       [6.8, 3.2, 5.9, 2.3],\n",
      "       [6.7, 3.3, 5.7, 2.5],\n",
      "       [6.7, 3. , 5.2, 2.3],\n",
      "       [6.3, 2.5, 5. , 1.9],\n",
      "       [6.5, 3. , 5.2, 2. ],\n",
      "       [6.2, 3.4, 5.4, 2.3],\n",
      "       [5.9, 3. , 5.1, 1.8]]), 'target': array([0, 0, 0, 0, 0, 0, 0, 0, 0, 0, 0, 0, 0, 0, 0, 0, 0, 0, 0, 0, 0, 0,\n",
      "       0, 0, 0, 0, 0, 0, 0, 0, 0, 0, 0, 0, 0, 0, 0, 0, 0, 0, 0, 0, 0, 0,\n",
      "       0, 0, 0, 0, 0, 0, 1, 1, 1, 1, 1, 1, 1, 1, 1, 1, 1, 1, 1, 1, 1, 1,\n",
      "       1, 1, 1, 1, 1, 1, 1, 1, 1, 1, 1, 1, 1, 1, 1, 1, 1, 1, 1, 1, 1, 1,\n",
      "       1, 1, 1, 1, 1, 1, 1, 1, 1, 1, 1, 1, 2, 2, 2, 2, 2, 2, 2, 2, 2, 2,\n",
      "       2, 2, 2, 2, 2, 2, 2, 2, 2, 2, 2, 2, 2, 2, 2, 2, 2, 2, 2, 2, 2, 2,\n",
      "       2, 2, 2, 2, 2, 2, 2, 2, 2, 2, 2, 2, 2, 2, 2, 2, 2, 2]), 'frame': None, 'target_names': array(['setosa', 'versicolor', 'virginica'], dtype='<U10'), 'DESCR': '.. _iris_dataset:\\n\\nIris plants dataset\\n--------------------\\n\\n**Data Set Characteristics:**\\n\\n    :Number of Instances: 150 (50 in each of three classes)\\n    :Number of Attributes: 4 numeric, predictive attributes and the class\\n    :Attribute Information:\\n        - sepal length in cm\\n        - sepal width in cm\\n        - petal length in cm\\n        - petal width in cm\\n        - class:\\n                - Iris-Setosa\\n                - Iris-Versicolour\\n                - Iris-Virginica\\n                \\n    :Summary Statistics:\\n\\n    ============== ==== ==== ======= ===== ====================\\n                    Min  Max   Mean    SD   Class Correlation\\n    ============== ==== ==== ======= ===== ====================\\n    sepal length:   4.3  7.9   5.84   0.83    0.7826\\n    sepal width:    2.0  4.4   3.05   0.43   -0.4194\\n    petal length:   1.0  6.9   3.76   1.76    0.9490  (high!)\\n    petal width:    0.1  2.5   1.20   0.76    0.9565  (high!)\\n    ============== ==== ==== ======= ===== ====================\\n\\n    :Missing Attribute Values: None\\n    :Class Distribution: 33.3% for each of 3 classes.\\n    :Creator: R.A. Fisher\\n    :Donor: Michael Marshall (MARSHALL%PLU@io.arc.nasa.gov)\\n    :Date: July, 1988\\n\\nThe famous Iris database, first used by Sir R.A. Fisher. The dataset is taken\\nfrom Fisher\\'s paper. Note that it\\'s the same as in R, but not as in the UCI\\nMachine Learning Repository, which has two wrong data points.\\n\\nThis is perhaps the best known database to be found in the\\npattern recognition literature.  Fisher\\'s paper is a classic in the field and\\nis referenced frequently to this day.  (See Duda & Hart, for example.)  The\\ndata set contains 3 classes of 50 instances each, where each class refers to a\\ntype of iris plant.  One class is linearly separable from the other 2; the\\nlatter are NOT linearly separable from each other.\\n\\n.. topic:: References\\n\\n   - Fisher, R.A. \"The use of multiple measurements in taxonomic problems\"\\n     Annual Eugenics, 7, Part II, 179-188 (1936); also in \"Contributions to\\n     Mathematical Statistics\" (John Wiley, NY, 1950).\\n   - Duda, R.O., & Hart, P.E. (1973) Pattern Classification and Scene Analysis.\\n     (Q327.D83) John Wiley & Sons.  ISBN 0-471-22361-1.  See page 218.\\n   - Dasarathy, B.V. (1980) \"Nosing Around the Neighborhood: A New System\\n     Structure and Classification Rule for Recognition in Partially Exposed\\n     Environments\".  IEEE Transactions on Pattern Analysis and Machine\\n     Intelligence, Vol. PAMI-2, No. 1, 67-71.\\n   - Gates, G.W. (1972) \"The Reduced Nearest Neighbor Rule\".  IEEE Transactions\\n     on Information Theory, May 1972, 431-433.\\n   - See also: 1988 MLC Proceedings, 54-64.  Cheeseman et al\"s AUTOCLASS II\\n     conceptual clustering system finds 3 classes in the data.\\n   - Many, many more ...', 'feature_names': ['sepal length (cm)', 'sepal width (cm)', 'petal length (cm)', 'petal width (cm)'], 'filename': 'iris.csv', 'data_module': 'sklearn.datasets.data'}\n"
     ]
    }
   ],
   "source": [
    "iris = datasets.load_iris()\n",
    "print (iris)"
   ]
  },
  {
   "cell_type": "code",
   "execution_count": 54,
   "id": "58eb0368",
   "metadata": {},
   "outputs": [],
   "source": [
    "# Cargar el conjunto de datos Iris\n",
    "iris = datasets.load_iris()\n",
    "X = iris.data\n",
    "y = iris.target"
   ]
  },
  {
   "cell_type": "code",
   "execution_count": 55,
   "id": "8db711bb",
   "metadata": {},
   "outputs": [],
   "source": [
    "# Dividir los datos en conjuntos de entrenamiento y prueba\n",
    "X_train, X_test, y_train, y_test = train_test_split(X, y, test_size=0.2, random_state=42)"
   ]
  },
  {
   "cell_type": "code",
   "execution_count": 56,
   "id": "22093a00",
   "metadata": {},
   "outputs": [
    {
     "data": {
      "text/html": [
       "<style>#sk-container-id-1 {color: black;background-color: white;}#sk-container-id-1 pre{padding: 0;}#sk-container-id-1 div.sk-toggleable {background-color: white;}#sk-container-id-1 label.sk-toggleable__label {cursor: pointer;display: block;width: 100%;margin-bottom: 0;padding: 0.3em;box-sizing: border-box;text-align: center;}#sk-container-id-1 label.sk-toggleable__label-arrow:before {content: \"▸\";float: left;margin-right: 0.25em;color: #696969;}#sk-container-id-1 label.sk-toggleable__label-arrow:hover:before {color: black;}#sk-container-id-1 div.sk-estimator:hover label.sk-toggleable__label-arrow:before {color: black;}#sk-container-id-1 div.sk-toggleable__content {max-height: 0;max-width: 0;overflow: hidden;text-align: left;background-color: #f0f8ff;}#sk-container-id-1 div.sk-toggleable__content pre {margin: 0.2em;color: black;border-radius: 0.25em;background-color: #f0f8ff;}#sk-container-id-1 input.sk-toggleable__control:checked~div.sk-toggleable__content {max-height: 200px;max-width: 100%;overflow: auto;}#sk-container-id-1 input.sk-toggleable__control:checked~label.sk-toggleable__label-arrow:before {content: \"▾\";}#sk-container-id-1 div.sk-estimator input.sk-toggleable__control:checked~label.sk-toggleable__label {background-color: #d4ebff;}#sk-container-id-1 div.sk-label input.sk-toggleable__control:checked~label.sk-toggleable__label {background-color: #d4ebff;}#sk-container-id-1 input.sk-hidden--visually {border: 0;clip: rect(1px 1px 1px 1px);clip: rect(1px, 1px, 1px, 1px);height: 1px;margin: -1px;overflow: hidden;padding: 0;position: absolute;width: 1px;}#sk-container-id-1 div.sk-estimator {font-family: monospace;background-color: #f0f8ff;border: 1px dotted black;border-radius: 0.25em;box-sizing: border-box;margin-bottom: 0.5em;}#sk-container-id-1 div.sk-estimator:hover {background-color: #d4ebff;}#sk-container-id-1 div.sk-parallel-item::after {content: \"\";width: 100%;border-bottom: 1px solid gray;flex-grow: 1;}#sk-container-id-1 div.sk-label:hover label.sk-toggleable__label {background-color: #d4ebff;}#sk-container-id-1 div.sk-serial::before {content: \"\";position: absolute;border-left: 1px solid gray;box-sizing: border-box;top: 0;bottom: 0;left: 50%;z-index: 0;}#sk-container-id-1 div.sk-serial {display: flex;flex-direction: column;align-items: center;background-color: white;padding-right: 0.2em;padding-left: 0.2em;position: relative;}#sk-container-id-1 div.sk-item {position: relative;z-index: 1;}#sk-container-id-1 div.sk-parallel {display: flex;align-items: stretch;justify-content: center;background-color: white;position: relative;}#sk-container-id-1 div.sk-item::before, #sk-container-id-1 div.sk-parallel-item::before {content: \"\";position: absolute;border-left: 1px solid gray;box-sizing: border-box;top: 0;bottom: 0;left: 50%;z-index: -1;}#sk-container-id-1 div.sk-parallel-item {display: flex;flex-direction: column;z-index: 1;position: relative;background-color: white;}#sk-container-id-1 div.sk-parallel-item:first-child::after {align-self: flex-end;width: 50%;}#sk-container-id-1 div.sk-parallel-item:last-child::after {align-self: flex-start;width: 50%;}#sk-container-id-1 div.sk-parallel-item:only-child::after {width: 0;}#sk-container-id-1 div.sk-dashed-wrapped {border: 1px dashed gray;margin: 0 0.4em 0.5em 0.4em;box-sizing: border-box;padding-bottom: 0.4em;background-color: white;}#sk-container-id-1 div.sk-label label {font-family: monospace;font-weight: bold;display: inline-block;line-height: 1.2em;}#sk-container-id-1 div.sk-label-container {text-align: center;}#sk-container-id-1 div.sk-container {/* jupyter's `normalize.less` sets `[hidden] { display: none; }` but bootstrap.min.css set `[hidden] { display: none !important; }` so we also need the `!important` here to be able to override the default hidden behavior on the sphinx rendered scikit-learn.org. See: https://github.com/scikit-learn/scikit-learn/issues/21755 */display: inline-block !important;position: relative;}#sk-container-id-1 div.sk-text-repr-fallback {display: none;}</style><div id=\"sk-container-id-1\" class=\"sk-top-container\"><div class=\"sk-text-repr-fallback\"><pre>SVC()</pre><b>In a Jupyter environment, please rerun this cell to show the HTML representation or trust the notebook. <br />On GitHub, the HTML representation is unable to render, please try loading this page with nbviewer.org.</b></div><div class=\"sk-container\" hidden><div class=\"sk-item\"><div class=\"sk-estimator sk-toggleable\"><input class=\"sk-toggleable__control sk-hidden--visually\" id=\"sk-estimator-id-1\" type=\"checkbox\" checked><label for=\"sk-estimator-id-1\" class=\"sk-toggleable__label sk-toggleable__label-arrow\">SVC</label><div class=\"sk-toggleable__content\"><pre>SVC()</pre></div></div></div></div></div>"
      ],
      "text/plain": [
       "SVC()"
      ]
     },
     "execution_count": 56,
     "metadata": {},
     "output_type": "execute_result"
    }
   ],
   "source": [
    "# Crear el modelo de clasificación SVC\n",
    "model = SVC()\n",
    "\n",
    "# Entrenar el modelo con los datos de entrenamiento\n",
    "model.fit(X_train, y_train)"
   ]
  },
  {
   "cell_type": "code",
   "execution_count": 57,
   "id": "11d53d48",
   "metadata": {},
   "outputs": [],
   "source": [
    "# Predecir las etiquetas para el conjunto de prueba\n",
    "y_pred = model.predict(X_test)"
   ]
  },
  {
   "cell_type": "code",
   "execution_count": 58,
   "id": "fb09c96c",
   "metadata": {},
   "outputs": [
    {
     "name": "stdout",
     "output_type": "stream",
     "text": [
      "Accuracy: 1.0\n",
      "Confusion Matrix:\n",
      "[[10  0  0]\n",
      " [ 0  9  0]\n",
      " [ 0  0 11]]\n",
      "              precision    recall  f1-score   support\n",
      "\n",
      "           0       1.00      1.00      1.00        10\n",
      "           1       1.00      1.00      1.00         9\n",
      "           2       1.00      1.00      1.00        11\n",
      "\n",
      "    accuracy                           1.00        30\n",
      "   macro avg       1.00      1.00      1.00        30\n",
      "weighted avg       1.00      1.00      1.00        30\n",
      "\n"
     ]
    }
   ],
   "source": [
    "# Calcular la exactitud del modelo\n",
    "accuracy = accuracy_score(y_test, y_pred)\n",
    "\n",
    "# Generar la matriz de confusión\n",
    "conf_matrix = confusion_matrix(y_test, y_pred)\n",
    "\n",
    "# Imprimir la matriz de confusión y el informe de clasificación\n",
    "print(f\"Accuracy: {accuracy}\")\n",
    "print(f\"Confusion Matrix:\\n{conf_matrix}\")\n",
    "print(classification_report(y_test, y_pred))"
   ]
  },
  {
   "cell_type": "code",
   "execution_count": 59,
   "id": "26e06b4c",
   "metadata": {},
   "outputs": [],
   "source": [
    "class Estudiante:\n",
    "    def __init__(self, nombre, edad, curso):\n",
    "        self.nombre = nombre\n",
    "        self.edad = edad\n",
    "        self.curso = curso\n",
    "\n",
    "    def obtener_datos(self):\n",
    "        return f\"Nombre: {self.nombre}, Edad: {self.edad}, Curso: {self.curso}\"\n",
    "    \n",
    "    def cambiar_curso(self, nuevo_curso):\n",
    "        self.curso = nuevo_curso"
   ]
  },
  {
   "cell_type": "code",
   "execution_count": 2,
   "id": "e71c38f5",
   "metadata": {},
   "outputs": [],
   "source": [
    "estudiante1 = Estudiante(\"Juan\", 18, \"Historia de México\")"
   ]
  },
  {
   "cell_type": "code",
   "execution_count": 3,
   "id": "c8e1d5b4",
   "metadata": {},
   "outputs": [
    {
     "name": "stdout",
     "output_type": "stream",
     "text": [
      "Nombre: Juan, Edad: 18, Curso: Historia de México\n"
     ]
    }
   ],
   "source": [
    "print(estudiante1.obtener_datos())"
   ]
  },
  {
   "cell_type": "code",
   "execution_count": 5,
   "id": "dc37e90d",
   "metadata": {},
   "outputs": [
    {
     "name": "stdout",
     "output_type": "stream",
     "text": [
      "Nombre: Juan, Edad: 18, Curso: Estadística\n"
     ]
    }
   ],
   "source": [
    "estudiante1.cambiar_curso(\"Estadística\")\n",
    "print(estudiante1.obtener_datos())"
   ]
  },
  {
   "cell_type": "markdown",
   "id": "f164573f",
   "metadata": {},
   "source": [
    "# NLP - Sentiment Analysis"
   ]
  },
  {
   "cell_type": "code",
   "execution_count": 60,
   "id": "47a5ff50",
   "metadata": {},
   "outputs": [
    {
     "name": "stderr",
     "output_type": "stream",
     "text": [
      "[nltk_data] Downloading package vader_lexicon to\n",
      "[nltk_data]     C:\\Users\\ninai\\AppData\\Roaming\\nltk_data...\n",
      "[nltk_data]   Package vader_lexicon is already up-to-date!\n"
     ]
    },
    {
     "data": {
      "text/plain": [
       "True"
      ]
     },
     "execution_count": 60,
     "metadata": {},
     "output_type": "execute_result"
    }
   ],
   "source": [
    "import pandas as pd\n",
    "from nltk.sentiment import SentimentIntensityAnalyzer\n",
    "import nltk\n",
    "nltk.download('vader_lexicon')"
   ]
  },
  {
   "cell_type": "code",
   "execution_count": 61,
   "id": "72b4631e",
   "metadata": {},
   "outputs": [],
   "source": [
    "# Cargar el conjunto de datos (reemplaza 'tu_dataset.csv' con el archivo real)\n",
    "df = pd.read_csv('C:/Users/ninai/Downloads/Ibaktor/Entregas mensuales/15 de octubre 2023/Material Semana 13/IMDB Dataset.csv')"
   ]
  },
  {
   "cell_type": "code",
   "execution_count": 62,
   "id": "678364b3",
   "metadata": {},
   "outputs": [],
   "source": [
    "# Inicializar VADER\n",
    "sia = SentimentIntensityAnalyzer()\n",
    "\n",
    "# Función para obtener la categoría de sentimiento\n",
    "def get_sentiment_category(score):\n",
    "    if score > 0.05:\n",
    "        return 'Positivo'\n",
    "    elif score < -0.05:\n",
    "        return 'Negativo'\n",
    "    else:\n",
    "        return 'Neutral'"
   ]
  },
  {
   "cell_type": "code",
   "execution_count": 63,
   "id": "b2969afc",
   "metadata": {},
   "outputs": [],
   "source": [
    "# Aplicar análisis de sentimientos\n",
    "df['sentiments'] = df['review'].apply(lambda x: sia.polarity_scores(x))\n",
    "df['sentiment_category'] = df['sentiments'].apply(lambda x: get_sentiment_category(x['compound']))"
   ]
  },
  {
   "cell_type": "code",
   "execution_count": 80,
   "id": "a9890ca1",
   "metadata": {},
   "outputs": [
    {
     "name": "stdout",
     "output_type": "stream",
     "text": [
      "                                              review sentiment_category\n",
      "0  One of the other reviewers has mentioned that ...           Negativo\n",
      "1  A wonderful little production. <br /><br />The...           Positivo\n",
      "2  I thought this was a wonderful way to spend ti...           Positivo\n",
      "3  Basically there's a family where a little boy ...           Negativo\n",
      "4  Petter Mattei's \"Love in the Time of Money\" is...           Positivo\n"
     ]
    }
   ],
   "source": [
    "# Visualizar los resultados\n",
    "print(df[['review', 'sentiment_category']].head())"
   ]
  },
  {
   "cell_type": "code",
   "execution_count": null,
   "id": "1a533358",
   "metadata": {},
   "outputs": [],
   "source": []
  }
 ],
 "metadata": {
  "kernelspec": {
   "display_name": "Python 3 (ipykernel)",
   "language": "python",
   "name": "python3"
  },
  "language_info": {
   "codemirror_mode": {
    "name": "ipython",
    "version": 3
   },
   "file_extension": ".py",
   "mimetype": "text/x-python",
   "name": "python",
   "nbconvert_exporter": "python",
   "pygments_lexer": "ipython3",
   "version": "3.11.5"
  }
 },
 "nbformat": 4,
 "nbformat_minor": 5
}
