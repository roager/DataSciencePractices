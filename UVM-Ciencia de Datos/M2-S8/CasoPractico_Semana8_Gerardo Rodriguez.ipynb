{
 "cells": [
  {
   "cell_type": "markdown",
   "id": "5ffa686a",
   "metadata": {},
   "source": [
    "# Caso Practico / Semana 8 / Gerardo Rodriguez\n",
    "Se debe ejecutar en Jupiter Notebook, Visual Studio no ejecuta la conversion a enteros "
   ]
  },
  {
   "cell_type": "markdown",
   "id": "4a568d00",
   "metadata": {},
   "source": [
    "# Cálculo de rendimientos\n",
    "Escriba un programa en Python que calcule el tiempo que tardan en obtenerse 1,000 USD en una inversión siguiendo los pasos a continuación:"
   ]
  },
  {
   "cell_type": "markdown",
   "id": "3c5fcbf4",
   "metadata": {},
   "source": [
    "# 1. Solicite de manera interactiva:\n",
    "a) un monto inicial menor a 500 (asegúrate antes de iniciar que, en efecto, sea menor a 500)\n",
    "b) una tasa de interés mensual en formato decimal"
   ]
  },
  {
   "cell_type": "code",
   "execution_count": 2,
   "id": "83baac45",
   "metadata": {},
   "outputs": [
    {
     "name": "stdout",
     "output_type": "stream",
     "text": [
      "Ingresa el valor del monto -1\n",
      "El valor del monto es menor a 0 o no es valido, ingresa nuevamente el monto\n",
      "Ingresa el valor del monto 500\n",
      "El valor del monto no es menor de 500 o no es valido, ingresa nuevamente el monto\n",
      "Ingresa el valor del monto 499\n",
      "El valor del monto es: USD$ 499\n"
     ]
    }
   ],
   "source": [
    "def monto():\n",
    "    while True:\n",
    "        montoInicial = int (input(\"Ingresa el valor del monto \"))\n",
    "        if montoInicial < 500:\n",
    "            if montoInicial > 0:\n",
    "                print (\"El valor del monto es: USD$\",montoInicial)\n",
    "                break\n",
    "            else:\n",
    "                print(\"El valor del monto es menor a 0 o no es valido, ingresa nuevamente el monto\")           \n",
    "            \n",
    "        else:\n",
    "            print(\"El valor del monto no es menor de 500 o no es valido, ingresa nuevamente el monto\")\n",
    "monto()"
   ]
  },
  {
   "cell_type": "code",
   "execution_count": 3,
   "id": "04bc8173",
   "metadata": {},
   "outputs": [
    {
     "name": "stdout",
     "output_type": "stream",
     "text": [
      "Ingresa el porcentaje del interes: -1\n",
      "El valor del interes es menor a 0 o no es valido, ingresa nuevamente el interes\n",
      "Ingresa el porcentaje del interes: 100\n",
      "El valor del interes no es menor a 100 o no es valido, ingresa nuevamente el interes\n",
      "Ingresa el porcentaje del interes: 99\n",
      "El valor del interes es:  99 %\n"
     ]
    }
   ],
   "source": [
    "def interes():\n",
    "    while True:\n",
    "        valorInteres = int (input(\"Ingresa el porcentaje del interes: \"))\n",
    "        if valorInteres < 100:\n",
    "            if valorInteres > 0:\n",
    "                print (\"El valor del interes es: \",valorInteres, \"%\")\n",
    "                break\n",
    "            else:\n",
    "                print(\"El valor del interes es menor a 0 o no es valido, ingresa nuevamente el interes\")\n",
    "        else:\n",
    "            print(\"El valor del interes no es menor a 100 o no es valido, ingresa nuevamente el interes\")\n",
    "interes()"
   ]
  },
  {
   "cell_type": "markdown",
   "id": "9ff18c86",
   "metadata": {},
   "source": [
    "# 2. Imprima mes a mes el monto acumulado hasta entonces\n",
    "# 3. Al alcanzar o superar escriba la siguiente línea: “Para acumular 1,000 USD se requieren {x} meses”"
   ]
  },
  {
   "cell_type": "code",
   "execution_count": 4,
   "id": "cf8ed619",
   "metadata": {},
   "outputs": [
    {
     "name": "stdout",
     "output_type": "stream",
     "text": [
      "Mes 1 : 503.99\n",
      "Mes 2 : 509.0299\n",
      "Mes 3 : 514.120199\n",
      "Mes 4 : 519.26140099\n",
      "Mes 5 : 524.4540149999\n",
      "Mes 6 : 529.698555149899\n",
      "Mes 7 : 534.995540701398\n",
      "Mes 8 : 540.345496108412\n",
      "Mes 9 : 545.7489510694961\n",
      "Mes 10 : 551.206440580191\n",
      "Mes 11 : 556.7185049859929\n",
      "Mes 12 : 562.2856900358529\n",
      "Mes 13 : 567.9085469362115\n",
      "Mes 14 : 573.5876324055736\n",
      "Mes 15 : 579.3235087296293\n",
      "Mes 16 : 585.1167438169257\n",
      "Mes 17 : 590.9679112550949\n",
      "Mes 18 : 596.8775903676459\n",
      "Mes 19 : 602.8463662713224\n",
      "Mes 20 : 608.8748299340356\n",
      "Mes 21 : 614.963578233376\n",
      "Mes 22 : 621.1132140157098\n",
      "Mes 23 : 627.3243461558669\n",
      "Mes 24 : 633.5975896174256\n",
      "Mes 25 : 639.9335655135998\n",
      "Mes 26 : 646.3329011687358\n",
      "Mes 27 : 652.7962301804232\n",
      "Mes 28 : 659.3241924822274\n",
      "Mes 29 : 665.9174344070498\n",
      "Mes 30 : 672.5766087511203\n",
      "Mes 31 : 679.3023748386315\n",
      "Mes 32 : 686.0953985870178\n",
      "Mes 33 : 692.956352572888\n",
      "Mes 34 : 699.8859160986169\n",
      "Mes 35 : 706.8847752596031\n",
      "Mes 36 : 713.9536230121992\n",
      "Mes 37 : 721.0931592423211\n",
      "Mes 38 : 728.3040908347443\n",
      "Mes 39 : 735.5871317430917\n",
      "Mes 40 : 742.9430030605226\n",
      "Mes 41 : 750.3724330911278\n",
      "Mes 42 : 757.8761574220391\n",
      "Mes 43 : 765.4549189962595\n",
      "Mes 44 : 773.1094681862221\n",
      "Mes 45 : 780.8405628680844\n",
      "Mes 46 : 788.6489684967652\n",
      "Mes 47 : 796.5354581817328\n",
      "Mes 48 : 804.5008127635501\n",
      "Mes 49 : 812.5458208911856\n",
      "Mes 50 : 820.6712791000974\n",
      "Mes 51 : 828.8779918910984\n",
      "Mes 52 : 837.1667718100094\n",
      "Mes 53 : 845.5384395281095\n",
      "Mes 54 : 853.9938239233907\n",
      "Mes 55 : 862.5337621626246\n",
      "Mes 56 : 871.1590997842509\n",
      "Mes 57 : 879.8706907820934\n",
      "Mes 58 : 888.6693976899144\n",
      "Mes 59 : 897.5560916668135\n",
      "Mes 60 : 906.5316525834816\n",
      "Mes 61 : 915.5969691093164\n",
      "Mes 62 : 924.7529388004097\n",
      "Mes 63 : 934.0004681884137\n",
      "Mes 64 : 943.3404728702978\n",
      "Mes 65 : 952.7738775990008\n",
      "Mes 66 : 962.3016163749908\n",
      "Mes 67 : 971.9246325387406\n",
      "Mes 68 : 981.643878864128\n",
      "Mes 69 : 991.4603176527694\n",
      "Mes 70 : 1001.3749208292971\n",
      "Para acumular USD$1,000 se requieren 70 meses\n"
     ]
    }
   ],
   "source": [
    "valorInteres = 1\n",
    "montoInicial = 499\n",
    "\n",
    "def acumuladoMensual(valorInteres, montoInicial):\n",
    "    interesDecimal = valorInteres / 100\n",
    "    montoActual = montoInicial\n",
    "    for i in range(1, 1000):\n",
    "        montoActual = montoActual * (1 + interesDecimal)\n",
    "        print(\"Mes\", i, \":\", montoActual)\n",
    "        if montoActual >= 1000:\n",
    "            print(f\"Para acumular USD$1,000 se requieren {i} meses\")\n",
    "            break\n",
    "\n",
    "acumuladoMensual(valorInteres, montoInicial)"
   ]
  },
  {
   "cell_type": "markdown",
   "id": "0e830991",
   "metadata": {},
   "source": [
    "# Juntando todo\n",
    "Se debe reiniciar el kernel para que no tome las variables previas"
   ]
  },
  {
   "cell_type": "code",
   "execution_count": 5,
   "id": "bef2a73a",
   "metadata": {},
   "outputs": [
    {
     "name": "stdout",
     "output_type": "stream",
     "text": [
      "Ingresa el valor del monto -1\n",
      "El valor del monto es menor a 0 o no es valido, ingresa nuevamente el monto\n",
      "Ingresa el valor del monto 500\n",
      "El valor del monto no es menor de 500 o no es valido, ingresa nuevamente el monto\n",
      "Ingresa el valor del monto 499\n",
      "El valor del monto es: USD$ 499\n",
      "Ingresa el porcentaje del interes: -1\n",
      "El valor del interes es menor a 0 o no es valido, ingresa nuevamente el interes\n",
      "Ingresa el porcentaje del interes: 100\n",
      "El valor del interes no es menor a 100 o no es valido, ingresa nuevamente el interes\n",
      "Ingresa el porcentaje del interes: 99\n",
      "El valor del interes es:  99 %\n",
      "Mes 1 : 993.01\n",
      "Mes 2 : 1976.0899\n",
      "Para acumular USD$1,000 se requieren 2 meses\n"
     ]
    }
   ],
   "source": [
    "def ejecutar_programa():\n",
    "    def monto():\n",
    "        while True:\n",
    "            montoInicial = int (input(\"Ingresa el valor del monto \"))\n",
    "            if montoInicial < 500:\n",
    "                if montoInicial > 0:\n",
    "                    print (\"El valor del monto es: USD$\",montoInicial)\n",
    "                    return montoInicial\n",
    "                else:\n",
    "                    print(\"El valor del monto es menor a 0 o no es valido, ingresa nuevamente el monto\")           \n",
    "            else:\n",
    "                print(\"El valor del monto no es menor de 500 o no es valido, ingresa nuevamente el monto\")\n",
    "    def interes():\n",
    "        while True:\n",
    "            valorInteres = int (input(\"Ingresa el porcentaje del interes: \"))\n",
    "            if valorInteres < 100:\n",
    "                if valorInteres > 0:\n",
    "                    print (\"El valor del interes es: \",valorInteres, \"%\")\n",
    "                    return valorInteres\n",
    "                else:\n",
    "                    print(\"El valor del interes es menor a 0 o no es valido, ingresa nuevamente el interes\")\n",
    "            else:\n",
    "                print(\"El valor del interes no es menor a 100 o no es valido, ingresa nuevamente el interes\")\n",
    "    def acumuladoMensual(valorInteres, montoInicial):\n",
    "        interesDecimal = valorInteres / 100\n",
    "        montoActual = montoInicial\n",
    "        for i in range(1, 1000):\n",
    "            montoActual = montoActual * (1 + interesDecimal)\n",
    "            print(\"Mes\", i, \":\", montoActual)\n",
    "            if montoActual >= 1000:\n",
    "                print(f\"Para acumular USD$1,000 se requieren {i} meses\")\n",
    "                break\n",
    "    montoInicial = monto()\n",
    "    valorInteres = interes()\n",
    "    acumuladoMensual(valorInteres, montoInicial)\n",
    "\n",
    "ejecutar_programa()"
   ]
  }
 ],
 "metadata": {
  "kernelspec": {
   "display_name": "Python 3 (ipykernel)",
   "language": "python",
   "name": "python3"
  },
  "language_info": {
   "codemirror_mode": {
    "name": "ipython",
    "version": 3
   },
   "file_extension": ".py",
   "mimetype": "text/x-python",
   "name": "python",
   "nbconvert_exporter": "python",
   "pygments_lexer": "ipython3",
   "version": "3.11.5"
  }
 },
 "nbformat": 4,
 "nbformat_minor": 5
}
