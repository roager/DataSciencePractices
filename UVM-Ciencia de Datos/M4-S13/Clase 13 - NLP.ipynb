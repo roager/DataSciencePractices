{
 "cells": [
  {
   "cell_type": "markdown",
   "id": "c6ffc317",
   "metadata": {},
   "source": [
    "## Procesamiento del lenguaje natural - NLTK"
   ]
  },
  {
   "cell_type": "markdown",
   "id": "78a4f57b",
   "metadata": {},
   "source": [
    "### Anaconda Prompt\n",
    "conda activate myenv\n",
    "conda install -c anaconda nltk\n",
    "\n",
    "pip install nltk"
   ]
  },
  {
   "cell_type": "code",
   "execution_count": null,
   "id": "342f6a2f",
   "metadata": {
    "scrolled": true
   },
   "outputs": [],
   "source": [
    "import nltk\n",
    "nltk.download(\"stopwords\")\n",
    "nltk.download(\"punkt\")"
   ]
  },
  {
   "cell_type": "markdown",
   "id": "76fbbbf2",
   "metadata": {},
   "source": [
    "## Preprocesamiento"
   ]
  },
  {
   "cell_type": "code",
   "execution_count": null,
   "id": "cb484d48",
   "metadata": {},
   "outputs": [],
   "source": [
    "from nltk.tokenize import word_tokenize, sent_tokenize\n",
    "\n",
    "texto = \"Hola, ¿cómo estás? ¡Espero que bien!\"\n",
    "palabras = word_tokenize(texto, language=\"spanish\")\n",
    "oraciones = sent_tokenize(texto, language=\"spanish\")\n",
    "palabras"
   ]
  },
  {
   "cell_type": "code",
   "execution_count": null,
   "id": "6d6733b7",
   "metadata": {},
   "outputs": [],
   "source": [
    "print(oraciones)"
   ]
  },
  {
   "cell_type": "code",
   "execution_count": null,
   "id": "85f7379b",
   "metadata": {},
   "outputs": [],
   "source": [
    "print(palabras)"
   ]
  },
  {
   "cell_type": "code",
   "execution_count": null,
   "id": "ddb434aa",
   "metadata": {},
   "outputs": [],
   "source": [
    "# Stopwords\n",
    "from nltk.corpus import stopwords\n",
    "\n",
    "palabras_filtradas = [palabra for palabra in palabras if palabra.lower() not in stopwords.words('spanish')]"
   ]
  },
  {
   "cell_type": "code",
   "execution_count": null,
   "id": "0401d443",
   "metadata": {},
   "outputs": [],
   "source": [
    "print(palabras_filtradas)"
   ]
  },
  {
   "cell_type": "code",
   "execution_count": null,
   "id": "54c847c2",
   "metadata": {},
   "outputs": [],
   "source": [
    "# Stemming\n",
    "from nltk.stem import SnowballStemmer\n",
    "\n",
    "stemmer = SnowballStemmer(\"spanish\")\n",
    "palabras_stemmed = [stemmer.stem(palabra) for palabra in palabras_filtradas]"
   ]
  },
  {
   "cell_type": "code",
   "execution_count": null,
   "id": "998d2c58",
   "metadata": {},
   "outputs": [],
   "source": [
    "print(palabras_stemmed)"
   ]
  },
  {
   "cell_type": "markdown",
   "id": "11e8b9b5",
   "metadata": {},
   "source": [
    "## Clustering de textos\n",
    "\n",
    "El objetivo es agrupar un conjunto de documentos de texto en clusters basados en su contenido y similitud."
   ]
  },
  {
   "cell_type": "code",
   "execution_count": 1,
   "id": "88ef0294",
   "metadata": {},
   "outputs": [],
   "source": [
    "# Importar las bibliotecas necesarias\n",
    "import numpy as np\n",
    "import pandas as pd\n",
    "from sklearn.feature_extraction.text import TfidfVectorizer\n",
    "from sklearn.cluster import KMeans"
   ]
  },
  {
   "cell_type": "code",
   "execution_count": 2,
   "id": "d1298c15",
   "metadata": {},
   "outputs": [],
   "source": [
    "# Conjunto de datos\n",
    "data = [\"La liga española anunció el calendario de la nueva temporada.\",\n",
    "        \"Recetas fáciles para preparar en menos de 20 minutos.\",\n",
    "        \"Tecnología: Los nuevos smartphones que esperamos ver este año.\",\n",
    "        \"Análisis del partido de ayer entre Barcelona y Real Madrid.\",\n",
    "        \"Los mejores utensilios para tu cocina moderna.\",\n",
    "        \"Comparativa de las mejores cámaras digitales del mercado.\",\n",
    "        \"Los jugadores más destacados de la última década.\",\n",
    "        \"Cómo hacer pan casero y otros panes fáciles.\",\n",
    "        \"Avances en inteligencia artificial y machine learning.\"]\n",
    "\n",
    "# Convertir a un DataFrame de pandas\n",
    "df = pd.DataFrame(data, columns=['text'])"
   ]
  },
  {
   "cell_type": "code",
   "execution_count": 7,
   "id": "918551c6",
   "metadata": {},
   "outputs": [],
   "source": [
    "# Conjunto de datos\n",
    "data = [\"Fútbol: La liga española anunció el calendario de la nueva temporada.\",\n",
    "        \"Cocina: Recetas fáciles para preparar en menos de 20 minutos.\",\n",
    "        \"Tecnología: Los nuevos smartphones que esperamos ver este año.\",\n",
    "        \"Fútbol: Análisis del partido de ayer entre Barcelona y Real Madrid.\",\n",
    "        \"Cocina: Los mejores utensilios para tu cocina moderna.\",\n",
    "        \"Tecnología: Comparativa de las mejores cámaras digitales del mercado.\",\n",
    "        \"Fútbol: Los jugadores más destacados de la última década.\",\n",
    "        \"Cocina: Cómo hacer pan casero y otros panes fáciles.\",\n",
    "        \"Tecnología: Avances en inteligencia artificial y machine learning.\"]\n",
    "\n",
    "# Convertir a un DataFrame de pandas\n",
    "df = pd.DataFrame(data, columns=['text'])\n"
   ]
  },
  {
   "cell_type": "code",
   "execution_count": 8,
   "id": "bd970f21",
   "metadata": {},
   "outputs": [],
   "source": [
    "# Inicializar el Vectorizador TF-IDF\n",
    "tfidf_vectorizer = TfidfVectorizer(stop_words='english')\n",
    "\n",
    "# Ajustar y transformar los documentos\n",
    "tfidf_matrix = tfidf_vectorizer.fit_transform(df['text'])"
   ]
  },
  {
   "cell_type": "code",
   "execution_count": 9,
   "id": "765ffb0e",
   "metadata": {},
   "outputs": [
    {
     "name": "stderr",
     "output_type": "stream",
     "text": [
      "c:\\ProgramData\\anaconda3\\Lib\\site-packages\\sklearn\\cluster\\_kmeans.py:870: FutureWarning: The default value of `n_init` will change from 10 to 'auto' in 1.4. Set the value of `n_init` explicitly to suppress the warning\n",
      "  warnings.warn(\n"
     ]
    },
    {
     "data": {
      "text/html": [
       "<style>#sk-container-id-2 {color: black;background-color: white;}#sk-container-id-2 pre{padding: 0;}#sk-container-id-2 div.sk-toggleable {background-color: white;}#sk-container-id-2 label.sk-toggleable__label {cursor: pointer;display: block;width: 100%;margin-bottom: 0;padding: 0.3em;box-sizing: border-box;text-align: center;}#sk-container-id-2 label.sk-toggleable__label-arrow:before {content: \"▸\";float: left;margin-right: 0.25em;color: #696969;}#sk-container-id-2 label.sk-toggleable__label-arrow:hover:before {color: black;}#sk-container-id-2 div.sk-estimator:hover label.sk-toggleable__label-arrow:before {color: black;}#sk-container-id-2 div.sk-toggleable__content {max-height: 0;max-width: 0;overflow: hidden;text-align: left;background-color: #f0f8ff;}#sk-container-id-2 div.sk-toggleable__content pre {margin: 0.2em;color: black;border-radius: 0.25em;background-color: #f0f8ff;}#sk-container-id-2 input.sk-toggleable__control:checked~div.sk-toggleable__content {max-height: 200px;max-width: 100%;overflow: auto;}#sk-container-id-2 input.sk-toggleable__control:checked~label.sk-toggleable__label-arrow:before {content: \"▾\";}#sk-container-id-2 div.sk-estimator input.sk-toggleable__control:checked~label.sk-toggleable__label {background-color: #d4ebff;}#sk-container-id-2 div.sk-label input.sk-toggleable__control:checked~label.sk-toggleable__label {background-color: #d4ebff;}#sk-container-id-2 input.sk-hidden--visually {border: 0;clip: rect(1px 1px 1px 1px);clip: rect(1px, 1px, 1px, 1px);height: 1px;margin: -1px;overflow: hidden;padding: 0;position: absolute;width: 1px;}#sk-container-id-2 div.sk-estimator {font-family: monospace;background-color: #f0f8ff;border: 1px dotted black;border-radius: 0.25em;box-sizing: border-box;margin-bottom: 0.5em;}#sk-container-id-2 div.sk-estimator:hover {background-color: #d4ebff;}#sk-container-id-2 div.sk-parallel-item::after {content: \"\";width: 100%;border-bottom: 1px solid gray;flex-grow: 1;}#sk-container-id-2 div.sk-label:hover label.sk-toggleable__label {background-color: #d4ebff;}#sk-container-id-2 div.sk-serial::before {content: \"\";position: absolute;border-left: 1px solid gray;box-sizing: border-box;top: 0;bottom: 0;left: 50%;z-index: 0;}#sk-container-id-2 div.sk-serial {display: flex;flex-direction: column;align-items: center;background-color: white;padding-right: 0.2em;padding-left: 0.2em;position: relative;}#sk-container-id-2 div.sk-item {position: relative;z-index: 1;}#sk-container-id-2 div.sk-parallel {display: flex;align-items: stretch;justify-content: center;background-color: white;position: relative;}#sk-container-id-2 div.sk-item::before, #sk-container-id-2 div.sk-parallel-item::before {content: \"\";position: absolute;border-left: 1px solid gray;box-sizing: border-box;top: 0;bottom: 0;left: 50%;z-index: -1;}#sk-container-id-2 div.sk-parallel-item {display: flex;flex-direction: column;z-index: 1;position: relative;background-color: white;}#sk-container-id-2 div.sk-parallel-item:first-child::after {align-self: flex-end;width: 50%;}#sk-container-id-2 div.sk-parallel-item:last-child::after {align-self: flex-start;width: 50%;}#sk-container-id-2 div.sk-parallel-item:only-child::after {width: 0;}#sk-container-id-2 div.sk-dashed-wrapped {border: 1px dashed gray;margin: 0 0.4em 0.5em 0.4em;box-sizing: border-box;padding-bottom: 0.4em;background-color: white;}#sk-container-id-2 div.sk-label label {font-family: monospace;font-weight: bold;display: inline-block;line-height: 1.2em;}#sk-container-id-2 div.sk-label-container {text-align: center;}#sk-container-id-2 div.sk-container {/* jupyter's `normalize.less` sets `[hidden] { display: none; }` but bootstrap.min.css set `[hidden] { display: none !important; }` so we also need the `!important` here to be able to override the default hidden behavior on the sphinx rendered scikit-learn.org. See: https://github.com/scikit-learn/scikit-learn/issues/21755 */display: inline-block !important;position: relative;}#sk-container-id-2 div.sk-text-repr-fallback {display: none;}</style><div id=\"sk-container-id-2\" class=\"sk-top-container\"><div class=\"sk-text-repr-fallback\"><pre>KMeans(n_clusters=3)</pre><b>In a Jupyter environment, please rerun this cell to show the HTML representation or trust the notebook. <br />On GitHub, the HTML representation is unable to render, please try loading this page with nbviewer.org.</b></div><div class=\"sk-container\" hidden><div class=\"sk-item\"><div class=\"sk-estimator sk-toggleable\"><input class=\"sk-toggleable__control sk-hidden--visually\" id=\"sk-estimator-id-2\" type=\"checkbox\" checked><label for=\"sk-estimator-id-2\" class=\"sk-toggleable__label sk-toggleable__label-arrow\">KMeans</label><div class=\"sk-toggleable__content\"><pre>KMeans(n_clusters=3)</pre></div></div></div></div></div>"
      ],
      "text/plain": [
       "KMeans(n_clusters=3)"
      ]
     },
     "execution_count": 9,
     "metadata": {},
     "output_type": "execute_result"
    }
   ],
   "source": [
    "# Número de clusters\n",
    "num_clusters = 3\n",
    "\n",
    "# Inicializar K-Means\n",
    "km = KMeans(n_clusters=num_clusters)\n",
    "\n",
    "# Ajustar el modelo\n",
    "km.fit(tfidf_matrix)"
   ]
  },
  {
   "cell_type": "code",
   "execution_count": 10,
   "id": "03dbcac4",
   "metadata": {},
   "outputs": [],
   "source": [
    "# Predicciones de clusters\n",
    "clusters = km.labels_.tolist()"
   ]
  },
  {
   "cell_type": "code",
   "execution_count": 11,
   "id": "501ba315",
   "metadata": {},
   "outputs": [
    {
     "name": "stdout",
     "output_type": "stream",
     "text": [
      "                                                text  Cluster\n",
      "2  Tecnología: Los nuevos smartphones que esperam...        0\n",
      "5  Tecnología: Comparativa de las mejores cámaras...        0\n",
      "8  Tecnología: Avances en inteligencia artificial...        0\n",
      "0  Fútbol: La liga española anunció el calendario...        1\n",
      "3  Fútbol: Análisis del partido de ayer entre Bar...        1\n",
      "6  Fútbol: Los jugadores más destacados de la últ...        1\n",
      "1  Cocina: Recetas fáciles para preparar en menos...        2\n",
      "4  Cocina: Los mejores utensilios para tu cocina ...        2\n",
      "7  Cocina: Cómo hacer pan casero y otros panes fá...        2\n"
     ]
    }
   ],
   "source": [
    "# Asignar el cluster a cada documento\n",
    "df['Cluster'] = clusters\n",
    "\n",
    "# Ver los documentos agrupados por cluster\n",
    "print(df.sort_values(by='Cluster'))"
   ]
  },
  {
   "cell_type": "markdown",
   "id": "51c78e80",
   "metadata": {},
   "source": [
    "## Análisis de sentimientos"
   ]
  },
  {
   "cell_type": "code",
   "execution_count": 22,
   "id": "2a61cba4",
   "metadata": {},
   "outputs": [
    {
     "name": "stderr",
     "output_type": "stream",
     "text": [
      "[nltk_data] Downloading package punkt to\n",
      "[nltk_data]     C:\\Users\\roage\\AppData\\Roaming\\nltk_data...\n",
      "[nltk_data]   Package punkt is already up-to-date!\n",
      "[nltk_data] Downloading package stopwords to\n",
      "[nltk_data]     C:\\Users\\roage\\AppData\\Roaming\\nltk_data...\n",
      "[nltk_data]   Package stopwords is already up-to-date!\n"
     ]
    },
    {
     "data": {
      "text/plain": [
       "True"
      ]
     },
     "execution_count": 22,
     "metadata": {},
     "output_type": "execute_result"
    }
   ],
   "source": [
    "# Librerías\n",
    "import pandas as pd\n",
    "import nltk\n",
    "from nltk.corpus import stopwords\n",
    "from nltk.tokenize import word_tokenize\n",
    "\n",
    "# Asegúrate de haber descargado los recursos necesarios de NLTK\n",
    "nltk.download('punkt')\n",
    "nltk.download('stopwords')"
   ]
  },
  {
   "cell_type": "code",
   "execution_count": 24,
   "id": "c4fc142e",
   "metadata": {},
   "outputs": [],
   "source": [
    "# Reseñas de películas\n",
    "data = {\n",
    "    'review': [\n",
    "        '¡Me encantó la película!',\n",
    "        'Fue una película fantástica.',\n",
    "        'No me gustó la película.',\n",
    "        'La película fue aburrida.',\n",
    "        'Qué gran película, me divertí mucho.',\n",
    "        'La película fue horrible.',\n",
    "        'Disfruté mucho la película.',\n",
    "        'Fue una película terrible.'\n",
    "    ],\n",
    "    'sentiment': ['positivo', 'positivo', 'negativo', 'negativo', 'positivo', 'negativo', 'positivo', 'negativo']\n",
    "}\n",
    "\n",
    "df = pd.DataFrame(data)"
   ]
  },
  {
   "cell_type": "code",
   "execution_count": 25,
   "id": "cf6d04da",
   "metadata": {},
   "outputs": [
    {
     "name": "stdout",
     "output_type": "stream",
     "text": [
      "                                 review           processed_review\n",
      "0              ¡Me encantó la película!        [encantó, película]\n",
      "1          Fue una película fantástica.     [película, fantástica]\n",
      "2              No me gustó la película.          [gustó, película]\n",
      "3             La película fue aburrida.       [película, aburrida]\n",
      "4  Qué gran película, me divertí mucho.  [gran, película, divertí]\n",
      "5             La película fue horrible.       [película, horrible]\n",
      "6           Disfruté mucho la película.       [disfruté, película]\n",
      "7            Fue una película terrible.       [película, terrible]\n"
     ]
    }
   ],
   "source": [
    "# Función de limpieza y preparación el texto en español\n",
    "def preprocess_text_es(text):\n",
    "    tokens = word_tokenize(text.lower(), language='spanish')\n",
    "    filtered_tokens = [token for token in tokens if token.isalpha() and token not in stopwords.words('spanish')]\n",
    "    return filtered_tokens\n",
    "\n",
    "# Aplicar la limpieza y tokenización al conjunto de datos en español\n",
    "df['processed_review'] = df['review'].apply(preprocess_text_es)\n",
    "\n",
    "# Mostrar el resultado de la limpieza\n",
    "print(df[['review', 'processed_review']])\n"
   ]
  },
  {
   "cell_type": "code",
   "execution_count": 39,
   "id": "3648fe3b",
   "metadata": {},
   "outputs": [],
   "source": [
    "# Nuevo conjunto de reseñas en español para análisis\n",
    "new_reviews = [\n",
    "    'La película no cumplió mis expectativas.',\n",
    "    'Totalmente emocionante y llena de suspenso.',\n",
    "    'No vale la pena, tiempo perdido.',\n",
    "    'Una obramaestra, me dejó sin palabras.',\n",
    "    'Olvidable, esperaba mucho más.',\n",
    "    'Innovadora, una experiencia cinematográfica única.',\n",
    "    'Demasiado predecible, me aburrí a mitad de camino.',\n",
    "    'El guión es brillante, los actores lo hicieron genial.'\n",
    "]\n",
    "\n",
    "# Añadir las nuevas reseñas al dataframe\n",
    "new_df = pd.DataFrame({'review': new_reviews})\n",
    "new_df['processed_review'] = new_df['review'].apply(preprocess_text_es)\n"
   ]
  },
  {
   "cell_type": "code",
   "execution_count": 40,
   "id": "d41269a4",
   "metadata": {},
   "outputs": [],
   "source": [
    "# Definir palabras clave asociadas con sentimientos positivos y negativos\n",
    "positive_keywords = ['emocionante', 'obra maestra', 'innovadora', 'brillante']\n",
    "negative_keywords = ['no cumplió', 'tiempo perdido', 'olvidable', 'predecible', 'aburrí']"
   ]
  },
  {
   "cell_type": "code",
   "execution_count": 41,
   "id": "8ecba9b5",
   "metadata": {},
   "outputs": [],
   "source": [
    "# Función para determinar el sentimiento basado en palabras clave\n",
    "def determine_sentiment(review):\n",
    "    positive_score = sum(1 for word in review if word in positive_keywords)\n",
    "    negative_score = sum(1 for word in review if word in negative_keywords)\n",
    "    return 'positivo' if positive_score > negative_score else 'negativo'"
   ]
  },
  {
   "cell_type": "code",
   "execution_count": 42,
   "id": "4881d927",
   "metadata": {},
   "outputs": [
    {
     "name": "stdout",
     "output_type": "stream",
     "text": [
      "                                              review sentiment\n",
      "0           La película no cumplió mis expectativas.  negativo\n",
      "1        Totalmente emocionante y llena de suspenso.  positivo\n",
      "2                   No vale la pena, tiempo perdido.  negativo\n",
      "3             Una obramaestra, me dejó sin palabras.  positivo\n",
      "4                     Olvidable, esperaba mucho más.  negativo\n",
      "5  Innovadora, una experiencia cinematográfica ún...  positivo\n",
      "6  Demasiado predecible, me aburrí a mitad de cam...  negativo\n",
      "7  El guión es brillante, los actores lo hicieron...  positivo\n"
     ]
    }
   ],
   "source": [
    "# Aplicar análisis de sentimiento a las reseñas\n",
    "new_df['sentiment'] = new_df['processed_review'].apply(determine_sentiment)\n",
    "\n",
    "# Mostrar resultados\n",
    "print(new_df[['review', 'sentiment']])"
   ]
  },
  {
   "cell_type": "code",
   "execution_count": null,
   "id": "c511083a",
   "metadata": {},
   "outputs": [],
   "source": []
  }
 ],
 "metadata": {
  "kernelspec": {
   "display_name": "namb",
   "language": "python",
   "name": "python3"
  },
  "language_info": {
   "codemirror_mode": {
    "name": "ipython",
    "version": 3
   },
   "file_extension": ".py",
   "mimetype": "text/x-python",
   "name": "python",
   "nbconvert_exporter": "python",
   "pygments_lexer": "ipython3",
   "version": "3.11.7"
  }
 },
 "nbformat": 4,
 "nbformat_minor": 5
}
