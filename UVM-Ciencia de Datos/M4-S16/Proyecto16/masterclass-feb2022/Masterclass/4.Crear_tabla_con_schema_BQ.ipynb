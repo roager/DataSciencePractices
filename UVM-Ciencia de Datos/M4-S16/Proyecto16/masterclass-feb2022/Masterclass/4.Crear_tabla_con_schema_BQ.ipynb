{
 "cells": [
  {
   "cell_type": "code",
   "execution_count": 2,
   "metadata": {},
   "outputs": [],
   "source": [
    "# Objetivo: vamos a conectarnos con Bigquery y desde Python vamos a crear una tabla desde cero, definiendo los schemas.\n",
    "# Generamos conexion a BQ\n",
    "from google.oauth2 import service_account # para generar conexion con BigQuery\n",
    "bq_cred = service_account.Credentials.from_service_account_file('local/pruebascursouvm-883b29ab2c58.json')"
   ]
  },
  {
   "cell_type": "code",
   "execution_count": 3,
   "metadata": {},
   "outputs": [],
   "source": [
    "\n",
    "# Crear una tabla vacía en BQ, definiendo el esquema con la libreria y API de google.\n",
    "from google.cloud import bigquery # otra opcion para interactuar con BQ pero esta libreria es de google\n",
    "\n",
    "client = bigquery.Client(project='pruebascursouvm',credentials=bq_cred)\n",
    "project = client.project\n",
    "dataset_ref = bigquery.DatasetReference(project, 'data_warehouse')\n",
    "table_ref = dataset_ref.table(\"masterclass_feb22_test\")\n",
    "\n",
    "schema = [\n",
    "    bigquery.SchemaField(\"date\", \"TIMESTAMP\", mode=\"NULLABLE\"),\n",
    "    bigquery.SchemaField(\"state\", \"STRING\", mode=\"NULLABLE\"),\n",
    "    bigquery.SchemaField(\"positive\", \"FLOAT\", mode=\"NULLABLE\"),\n",
    "    bigquery.SchemaField(\"probableCases\", \"FLOAT\", mode=\"NULLABLE\"),\n",
    "    bigquery.SchemaField(\"negative\", \"FLOAT\", mode=\"NULLABLE\"),\n",
    "    bigquery.SchemaField(\n",
    "        \"detalle\",\n",
    "        \"RECORD\",\n",
    "        mode=\"REPEATED\",\n",
    "        fields=[\n",
    "            bigquery.SchemaField(\"status\", \"STRING\", mode=\"NULLABLE\"),\n",
    "            bigquery.SchemaField(\"address\", \"STRING\", mode=\"NULLABLE\"),\n",
    "            bigquery.SchemaField(\"city\", \"STRING\", mode=\"NULLABLE\"),\n",
    "            bigquery.SchemaField(\"state\", \"STRING\", mode=\"NULLABLE\"),\n",
    "            bigquery.SchemaField(\"zip\", \"STRING\", mode=\"NULLABLE\"),\n",
    "            bigquery.SchemaField(\"numberOfYears\", \"STRING\", mode=\"NULLABLE\")\n",
    "        ]\n",
    "        )\n",
    "    ]"
   ]
  },
  {
   "cell_type": "code",
   "execution_count": 4,
   "metadata": {},
   "outputs": [],
   "source": [
    "table = bigquery.Table(table_ref, schema=schema)\n"
   ]
  },
  {
   "cell_type": "code",
   "execution_count": 5,
   "metadata": {},
   "outputs": [],
   "source": [
    "table = client.create_table(table)  # API request"
   ]
  }
 ],
 "metadata": {
  "kernelspec": {
   "display_name": "base",
   "language": "python",
   "name": "python3"
  },
  "language_info": {
   "codemirror_mode": {
    "name": "ipython",
    "version": 3
   },
   "file_extension": ".py",
   "mimetype": "text/x-python",
   "name": "python",
   "nbconvert_exporter": "python",
   "pygments_lexer": "ipython3",
   "version": "3.11.7"
  }
 },
 "nbformat": 4,
 "nbformat_minor": 2
}
