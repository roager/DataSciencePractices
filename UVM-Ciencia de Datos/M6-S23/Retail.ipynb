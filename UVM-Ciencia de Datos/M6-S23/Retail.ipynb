{
 "cells": [
  {
   "cell_type": "code",
   "execution_count": 46,
   "metadata": {},
   "outputs": [],
   "source": [
    "import pandas as pd\n",
    "from datetime import datetime"
   ]
  },
  {
   "cell_type": "code",
   "execution_count": 47,
   "metadata": {},
   "outputs": [],
   "source": [
    "#Cargar los datos\n",
    "df = pd.read_excel('./OnlineRetail.xlsx')"
   ]
  },
  {
   "cell_type": "code",
   "execution_count": 48,
   "metadata": {},
   "outputs": [],
   "source": [
    "#Preprocesamiento\n",
    "#Asegurarse de que el total gastado es positivo y filtrar datos necesarios\n",
    "df = df[df['Quantity'] > 0]\n",
    "df = df[df['UnitPrice'] > 0]\n",
    "df = df[df['CustomerID'] > 0]\n",
    "df ['TotalSpend'] = df['Quantity']*df['UnitPrice']\n"
   ]
  },
  {
   "cell_type": "code",
   "execution_count": 49,
   "metadata": {},
   "outputs": [],
   "source": [
    "#Filtrar las filas donde Quantity, UnitPrice y CustomerID son mayores que 0\n",
    "df = df[(df['Quantity']>0)&(df['UnitPrice']>0)&(df['CustomerID']>0)]\n",
    "\n",
    "#Calcular el total de gasto\n",
    "df['TotalSpend'] = df['Quantity']* df ['UnitPrice']"
   ]
  },
  {
   "cell_type": "code",
   "execution_count": 50,
   "metadata": {},
   "outputs": [
    {
     "name": "stdout",
     "output_type": "stream",
     "text": [
      "<class 'pandas.core.frame.DataFrame'>\n",
      "Index: 397884 entries, 0 to 541908\n",
      "Data columns (total 9 columns):\n",
      " #   Column       Non-Null Count   Dtype         \n",
      "---  ------       --------------   -----         \n",
      " 0   InvoiceNo    397884 non-null  object        \n",
      " 1   StockCode    397884 non-null  object        \n",
      " 2   Description  397884 non-null  object        \n",
      " 3   Quantity     397884 non-null  int64         \n",
      " 4   InvoiceDate  397884 non-null  datetime64[ns]\n",
      " 5   UnitPrice    397884 non-null  float64       \n",
      " 6   CustomerID   397884 non-null  float64       \n",
      " 7   Country      397884 non-null  object        \n",
      " 8   TotalSpend   397884 non-null  float64       \n",
      "dtypes: datetime64[ns](1), float64(3), int64(1), object(4)\n",
      "memory usage: 30.4+ MB\n"
     ]
    }
   ],
   "source": [
    "df.info()"
   ]
  },
  {
   "cell_type": "code",
   "execution_count": 51,
   "metadata": {},
   "outputs": [
    {
     "name": "stdout",
     "output_type": "stream",
     "text": [
      "       InvoiceNo StockCode                          Description  Quantity  \\\n",
      "0         536365    85123A   WHITE HANGING HEART T-LIGHT HOLDER         6   \n",
      "1         536365     71053                  WHITE METAL LANTERN         6   \n",
      "2         536365    84406B       CREAM CUPID HEARTS COAT HANGER         8   \n",
      "3         536365    84029G  KNITTED UNION FLAG HOT WATER BOTTLE         6   \n",
      "4         536365    84029E       RED WOOLLY HOTTIE WHITE HEART.         6   \n",
      "...          ...       ...                                  ...       ...   \n",
      "541904    581587     22613          PACK OF 20 SPACEBOY NAPKINS        12   \n",
      "541905    581587     22899         CHILDREN'S APRON DOLLY GIRL          6   \n",
      "541906    581587     23254        CHILDRENS CUTLERY DOLLY GIRL          4   \n",
      "541907    581587     23255      CHILDRENS CUTLERY CIRCUS PARADE         4   \n",
      "541908    581587     22138        BAKING SET 9 PIECE RETROSPOT          3   \n",
      "\n",
      "               InvoiceDate  UnitPrice  CustomerID         Country  TotalSpend  \n",
      "0      2010-12-01 08:26:00       2.55     17850.0  United Kingdom       15.30  \n",
      "1      2010-12-01 08:26:00       3.39     17850.0  United Kingdom       20.34  \n",
      "2      2010-12-01 08:26:00       2.75     17850.0  United Kingdom       22.00  \n",
      "3      2010-12-01 08:26:00       3.39     17850.0  United Kingdom       20.34  \n",
      "4      2010-12-01 08:26:00       3.39     17850.0  United Kingdom       20.34  \n",
      "...                    ...        ...         ...             ...         ...  \n",
      "541904 2011-12-09 12:50:00       0.85     12680.0          France       10.20  \n",
      "541905 2011-12-09 12:50:00       2.10     12680.0          France       12.60  \n",
      "541906 2011-12-09 12:50:00       4.15     12680.0          France       16.60  \n",
      "541907 2011-12-09 12:50:00       4.15     12680.0          France       16.60  \n",
      "541908 2011-12-09 12:50:00       4.95     12680.0          France       14.85  \n",
      "\n",
      "[397884 rows x 9 columns]\n"
     ]
    }
   ],
   "source": [
    "print(df)"
   ]
  },
  {
   "cell_type": "code",
   "execution_count": 52,
   "metadata": {},
   "outputs": [],
   "source": [
    "#calcular R, F, M\n",
    "#NOW = datetime.now()\n",
    "df['InvoiceDate'] = pd.to_datetime(df['InvoiceDate'])\n",
    "NOW = df['InvoiceDate'].max()\n",
    "\n",
    "RFM =df.groupby('CustomerID').agg({\n",
    "        'InvoiceDate': lambda x: (NOW - x.max()).days,\n",
    "        'InvoiceNo': 'nunique', #nunique o count\n",
    "        'TotalSpend': 'sum'\n",
    "}).rename(columns={'InvoiceDate': 'Recency',\n",
    "                   'InvoiceNo': 'Frequency',\n",
    "                   'TotalSpend': 'Monetary'})"
   ]
  },
  {
   "cell_type": "code",
   "execution_count": 53,
   "metadata": {},
   "outputs": [
    {
     "name": "stdout",
     "output_type": "stream",
     "text": [
      "            Recency  Frequency  Monetary\n",
      "CustomerID                              \n",
      "12346.0         325          1  77183.60\n",
      "12347.0           1          7   4310.00\n",
      "12348.0          74          4   1797.24\n",
      "12349.0          18          1   1757.55\n",
      "12350.0         309          1    334.40\n",
      "...             ...        ...       ...\n",
      "18280.0         277          1    180.60\n",
      "18281.0         180          1     80.82\n",
      "18282.0           7          2    178.05\n",
      "18283.0           3         16   2094.88\n",
      "18287.0          42          3   1837.28\n",
      "\n",
      "[4338 rows x 3 columns]\n"
     ]
    }
   ],
   "source": [
    "print(RFM)"
   ]
  },
  {
   "cell_type": "code",
   "execution_count": 54,
   "metadata": {},
   "outputs": [
    {
     "data": {
      "text/html": [
       "<div>\n",
       "<style scoped>\n",
       "    .dataframe tbody tr th:only-of-type {\n",
       "        vertical-align: middle;\n",
       "    }\n",
       "\n",
       "    .dataframe tbody tr th {\n",
       "        vertical-align: top;\n",
       "    }\n",
       "\n",
       "    .dataframe thead th {\n",
       "        text-align: right;\n",
       "    }\n",
       "</style>\n",
       "<table border=\"1\" class=\"dataframe\">\n",
       "  <thead>\n",
       "    <tr style=\"text-align: right;\">\n",
       "      <th></th>\n",
       "      <th>Recency</th>\n",
       "      <th>Frequency</th>\n",
       "      <th>Monetary</th>\n",
       "    </tr>\n",
       "  </thead>\n",
       "  <tbody>\n",
       "    <tr>\n",
       "      <th>0.25</th>\n",
       "      <td>17.0</td>\n",
       "      <td>1.0</td>\n",
       "      <td>307.415</td>\n",
       "    </tr>\n",
       "    <tr>\n",
       "      <th>0.50</th>\n",
       "      <td>50.0</td>\n",
       "      <td>2.0</td>\n",
       "      <td>674.485</td>\n",
       "    </tr>\n",
       "    <tr>\n",
       "      <th>0.75</th>\n",
       "      <td>141.0</td>\n",
       "      <td>5.0</td>\n",
       "      <td>1661.740</td>\n",
       "    </tr>\n",
       "  </tbody>\n",
       "</table>\n",
       "</div>"
      ],
      "text/plain": [
       "      Recency  Frequency  Monetary\n",
       "0.25     17.0        1.0   307.415\n",
       "0.50     50.0        2.0   674.485\n",
       "0.75    141.0        5.0  1661.740"
      ]
     },
     "execution_count": 54,
     "metadata": {},
     "output_type": "execute_result"
    }
   ],
   "source": [
    "#clasificar a los clientes en cuartiles\n",
    "quartiles = RFM.quantile(q=[0.25, 0.5, 0.75])\n",
    "quartiles"
   ]
  },
  {
   "cell_type": "code",
   "execution_count": 55,
   "metadata": {},
   "outputs": [],
   "source": [
    "#calculo de los Scores\n",
    "\n",
    "RFM['R_Score'] = pd.cut(RFM['Recency'], bins = [-1, quartiles['Recency'][0.25], quartiles['Recency'][0.5],\\\n",
    "                                                 quartiles['Recency'][0.75], RFM ['Recency'].max()], labels = [4, 3, 2, 1], include_lowest=True)"
   ]
  },
  {
   "cell_type": "code",
   "execution_count": 56,
   "metadata": {},
   "outputs": [],
   "source": [
    "\n",
    "RFM['F_Score'] = pd.cut(RFM['Frequency'], bins = [-1, quartiles['Frequency'][0.25], quartiles['Frequency'][0.5], \\\n",
    "                                                  quartiles['Frequency'][0.75], RFM ['Frequency'].max()], labels = [1,2,3,4], include_lowest=True)"
   ]
  },
  {
   "cell_type": "code",
   "execution_count": 57,
   "metadata": {},
   "outputs": [],
   "source": [
    "RFM['M_Score'] = pd.cut(RFM['Monetary'], bins = [-1, quartiles['Monetary'][0.25], quartiles['Monetary'][0.5], \\\n",
    "                                                 quartiles['Monetary'][0.75], RFM ['Monetary'].max()], labels = [1,2,3,4], include_lowest=True)"
   ]
  },
  {
   "cell_type": "markdown",
   "metadata": {},
   "source": []
  },
  {
   "cell_type": "code",
   "execution_count": 58,
   "metadata": {},
   "outputs": [
    {
     "data": {
      "text/html": [
       "<div>\n",
       "<style scoped>\n",
       "    .dataframe tbody tr th:only-of-type {\n",
       "        vertical-align: middle;\n",
       "    }\n",
       "\n",
       "    .dataframe tbody tr th {\n",
       "        vertical-align: top;\n",
       "    }\n",
       "\n",
       "    .dataframe thead th {\n",
       "        text-align: right;\n",
       "    }\n",
       "</style>\n",
       "<table border=\"1\" class=\"dataframe\">\n",
       "  <thead>\n",
       "    <tr style=\"text-align: right;\">\n",
       "      <th></th>\n",
       "      <th>Recency</th>\n",
       "      <th>Frequency</th>\n",
       "      <th>Monetary</th>\n",
       "    </tr>\n",
       "  </thead>\n",
       "  <tbody>\n",
       "    <tr>\n",
       "      <th>0.25</th>\n",
       "      <td>17.0</td>\n",
       "      <td>1.0</td>\n",
       "      <td>307.415</td>\n",
       "    </tr>\n",
       "    <tr>\n",
       "      <th>0.50</th>\n",
       "      <td>50.0</td>\n",
       "      <td>2.0</td>\n",
       "      <td>674.485</td>\n",
       "    </tr>\n",
       "    <tr>\n",
       "      <th>0.75</th>\n",
       "      <td>141.0</td>\n",
       "      <td>5.0</td>\n",
       "      <td>1661.740</td>\n",
       "    </tr>\n",
       "  </tbody>\n",
       "</table>\n",
       "</div>"
      ],
      "text/plain": [
       "      Recency  Frequency  Monetary\n",
       "0.25     17.0        1.0   307.415\n",
       "0.50     50.0        2.0   674.485\n",
       "0.75    141.0        5.0  1661.740"
      ]
     },
     "execution_count": 58,
     "metadata": {},
     "output_type": "execute_result"
    }
   ],
   "source": [
    "quartiles"
   ]
  },
  {
   "cell_type": "code",
   "execution_count": 59,
   "metadata": {},
   "outputs": [
    {
     "data": {
      "text/html": [
       "<div>\n",
       "<style scoped>\n",
       "    .dataframe tbody tr th:only-of-type {\n",
       "        vertical-align: middle;\n",
       "    }\n",
       "\n",
       "    .dataframe tbody tr th {\n",
       "        vertical-align: top;\n",
       "    }\n",
       "\n",
       "    .dataframe thead th {\n",
       "        text-align: right;\n",
       "    }\n",
       "</style>\n",
       "<table border=\"1\" class=\"dataframe\">\n",
       "  <thead>\n",
       "    <tr style=\"text-align: right;\">\n",
       "      <th></th>\n",
       "      <th>Recency</th>\n",
       "      <th>Frequency</th>\n",
       "      <th>Monetary</th>\n",
       "      <th>R_Score</th>\n",
       "      <th>F_Score</th>\n",
       "      <th>M_Score</th>\n",
       "    </tr>\n",
       "    <tr>\n",
       "      <th>CustomerID</th>\n",
       "      <th></th>\n",
       "      <th></th>\n",
       "      <th></th>\n",
       "      <th></th>\n",
       "      <th></th>\n",
       "      <th></th>\n",
       "    </tr>\n",
       "  </thead>\n",
       "  <tbody>\n",
       "    <tr>\n",
       "      <th>12346.0</th>\n",
       "      <td>325</td>\n",
       "      <td>1</td>\n",
       "      <td>77183.60</td>\n",
       "      <td>1</td>\n",
       "      <td>1</td>\n",
       "      <td>4</td>\n",
       "    </tr>\n",
       "    <tr>\n",
       "      <th>12347.0</th>\n",
       "      <td>1</td>\n",
       "      <td>7</td>\n",
       "      <td>4310.00</td>\n",
       "      <td>4</td>\n",
       "      <td>4</td>\n",
       "      <td>4</td>\n",
       "    </tr>\n",
       "    <tr>\n",
       "      <th>12348.0</th>\n",
       "      <td>74</td>\n",
       "      <td>4</td>\n",
       "      <td>1797.24</td>\n",
       "      <td>2</td>\n",
       "      <td>3</td>\n",
       "      <td>4</td>\n",
       "    </tr>\n",
       "    <tr>\n",
       "      <th>12349.0</th>\n",
       "      <td>18</td>\n",
       "      <td>1</td>\n",
       "      <td>1757.55</td>\n",
       "      <td>3</td>\n",
       "      <td>1</td>\n",
       "      <td>4</td>\n",
       "    </tr>\n",
       "    <tr>\n",
       "      <th>12350.0</th>\n",
       "      <td>309</td>\n",
       "      <td>1</td>\n",
       "      <td>334.40</td>\n",
       "      <td>1</td>\n",
       "      <td>1</td>\n",
       "      <td>2</td>\n",
       "    </tr>\n",
       "    <tr>\n",
       "      <th>...</th>\n",
       "      <td>...</td>\n",
       "      <td>...</td>\n",
       "      <td>...</td>\n",
       "      <td>...</td>\n",
       "      <td>...</td>\n",
       "      <td>...</td>\n",
       "    </tr>\n",
       "    <tr>\n",
       "      <th>18280.0</th>\n",
       "      <td>277</td>\n",
       "      <td>1</td>\n",
       "      <td>180.60</td>\n",
       "      <td>1</td>\n",
       "      <td>1</td>\n",
       "      <td>1</td>\n",
       "    </tr>\n",
       "    <tr>\n",
       "      <th>18281.0</th>\n",
       "      <td>180</td>\n",
       "      <td>1</td>\n",
       "      <td>80.82</td>\n",
       "      <td>1</td>\n",
       "      <td>1</td>\n",
       "      <td>1</td>\n",
       "    </tr>\n",
       "    <tr>\n",
       "      <th>18282.0</th>\n",
       "      <td>7</td>\n",
       "      <td>2</td>\n",
       "      <td>178.05</td>\n",
       "      <td>4</td>\n",
       "      <td>2</td>\n",
       "      <td>1</td>\n",
       "    </tr>\n",
       "    <tr>\n",
       "      <th>18283.0</th>\n",
       "      <td>3</td>\n",
       "      <td>16</td>\n",
       "      <td>2094.88</td>\n",
       "      <td>4</td>\n",
       "      <td>4</td>\n",
       "      <td>4</td>\n",
       "    </tr>\n",
       "    <tr>\n",
       "      <th>18287.0</th>\n",
       "      <td>42</td>\n",
       "      <td>3</td>\n",
       "      <td>1837.28</td>\n",
       "      <td>3</td>\n",
       "      <td>3</td>\n",
       "      <td>4</td>\n",
       "    </tr>\n",
       "  </tbody>\n",
       "</table>\n",
       "<p>4338 rows × 6 columns</p>\n",
       "</div>"
      ],
      "text/plain": [
       "            Recency  Frequency  Monetary R_Score F_Score M_Score\n",
       "CustomerID                                                      \n",
       "12346.0         325          1  77183.60       1       1       4\n",
       "12347.0           1          7   4310.00       4       4       4\n",
       "12348.0          74          4   1797.24       2       3       4\n",
       "12349.0          18          1   1757.55       3       1       4\n",
       "12350.0         309          1    334.40       1       1       2\n",
       "...             ...        ...       ...     ...     ...     ...\n",
       "18280.0         277          1    180.60       1       1       1\n",
       "18281.0         180          1     80.82       1       1       1\n",
       "18282.0           7          2    178.05       4       2       1\n",
       "18283.0           3         16   2094.88       4       4       4\n",
       "18287.0          42          3   1837.28       3       3       4\n",
       "\n",
       "[4338 rows x 6 columns]"
      ]
     },
     "execution_count": 59,
     "metadata": {},
     "output_type": "execute_result"
    }
   ],
   "source": [
    "RFM"
   ]
  },
  {
   "cell_type": "code",
   "execution_count": 60,
   "metadata": {},
   "outputs": [],
   "source": [
    "#calcular el puntaje RFM total como una nueva columna\n",
    "RFM['RFM_Score']=RFM['R_Score'].astype(str) + RFM ['F_Score'].astype(str) +RFM['M_Score'].astype(str)"
   ]
  },
  {
   "cell_type": "code",
   "execution_count": 61,
   "metadata": {},
   "outputs": [
    {
     "name": "stdout",
     "output_type": "stream",
     "text": [
      "            Recency  Frequency  Monetary R_Score F_Score M_Score RFM_Score\n",
      "CustomerID                                                                \n",
      "12346.0         325          1  77183.60       1       1       4       114\n",
      "12347.0           1          7   4310.00       4       4       4       444\n",
      "12348.0          74          4   1797.24       2       3       4       234\n",
      "12349.0          18          1   1757.55       3       1       4       314\n",
      "12350.0         309          1    334.40       1       1       2       112\n"
     ]
    }
   ],
   "source": [
    "#Segmentar a los cliente basados en el puntaje RFM\n",
    "# Por ejemplo, '444' indica cliente con la mejor puntucacion en Recencia, Frecuencia, y Monetario\n",
    "print(RFM.head())"
   ]
  },
  {
   "cell_type": "code",
   "execution_count": 62,
   "metadata": {},
   "outputs": [
    {
     "name": "stdout",
     "output_type": "stream",
     "text": [
      "   RFM_Score  CustomerCount\n",
      "1        111            443\n",
      "2        112            222\n",
      "34       113             39\n",
      "44       114             11\n",
      "24       121             63\n",
      "..       ...            ...\n",
      "15       434             90\n",
      "57       441              2\n",
      "56       442              2\n",
      "23       443             63\n",
      "0        444            462\n",
      "\n",
      "[61 rows x 2 columns]\n"
     ]
    }
   ],
   "source": [
    "#constar el total de clientes en cada segemento de RFm score\n",
    "rfm_score_counts = RFM['RFM_Score'].value_counts().reset_index()\n",
    "rfm_score_counts.columns = ['RFM_Score', 'CustomerCount']\n",
    "\n",
    "#Ordenar los resultados por RFM Score para mejor visualizaci[on]\n",
    "rfm_score_counts = rfm_score_counts.sort_values(by='RFM_Score')\n",
    "\n",
    "print (rfm_score_counts)"
   ]
  },
  {
   "cell_type": "code",
   "execution_count": 63,
   "metadata": {},
   "outputs": [
    {
     "data": {
      "text/plain": [
       "array(['114', '444', '234', '314', '112', '344', '111', '113', '334',\n",
       "       '423', '222', '433', '122', '411', '324', '233', '313', '422',\n",
       "       '123', '214', '223', '434', '134', '322', '212', '312', '132',\n",
       "       '124', '213', '333', '311', '224', '424', '121', '244', '323',\n",
       "       '443', '413', '412', '221', '332', '321', '232', '343', '211',\n",
       "       '432', '143', '421', '144', '231', '331', '431', '243', '133',\n",
       "       '131', '142', '414', '442', '441', '242', '141'], dtype=object)"
      ]
     },
     "execution_count": 63,
     "metadata": {},
     "output_type": "execute_result"
    }
   ],
   "source": [
    "RFM['RFM_Score'].unique()"
   ]
  },
  {
   "cell_type": "code",
   "execution_count": 64,
   "metadata": {},
   "outputs": [
    {
     "name": "stdout",
     "output_type": "stream",
     "text": [
      "<class 'pandas.core.frame.DataFrame'>\n",
      "Index: 4338 entries, 12346.0 to 18287.0\n",
      "Data columns (total 7 columns):\n",
      " #   Column     Non-Null Count  Dtype   \n",
      "---  ------     --------------  -----   \n",
      " 0   Recency    4338 non-null   int64   \n",
      " 1   Frequency  4338 non-null   int64   \n",
      " 2   Monetary   4338 non-null   float64 \n",
      " 3   R_Score    4338 non-null   category\n",
      " 4   F_Score    4338 non-null   category\n",
      " 5   M_Score    4338 non-null   category\n",
      " 6   RFM_Score  4338 non-null   object  \n",
      "dtypes: category(3), float64(1), int64(2), object(1)\n",
      "memory usage: 182.8+ KB\n"
     ]
    }
   ],
   "source": [
    "RFM.info()"
   ]
  },
  {
   "cell_type": "code",
   "execution_count": 65,
   "metadata": {},
   "outputs": [
    {
     "name": "stdout",
     "output_type": "stream",
     "text": [
      "            Recency  Frequency  Monetary R_Score F_Score M_Score RFM_Score\n",
      "CustomerID                                                                \n",
      "12347.0           1          7   4310.00       4       4       4       444\n",
      "12362.0           2         10   5226.23       4       4       4       444\n",
      "12388.0          15          6   2780.66       4       4       4       444\n",
      "12417.0           2          9   3649.10       4       4       4       444\n",
      "12423.0           0          8   1859.31       4       4       4       444\n",
      "...             ...        ...       ...     ...     ...     ...       ...\n",
      "18230.0           8          7   2810.20       4       4       4       444\n",
      "18241.0           9         17   2073.09       4       4       4       444\n",
      "18245.0           6          7   2567.06       4       4       4       444\n",
      "18272.0           2          6   3078.58       4       4       4       444\n",
      "18283.0           3         16   2094.88       4       4       4       444\n",
      "\n",
      "[462 rows x 7 columns]\n"
     ]
    }
   ],
   "source": [
    "#Filtrar para mostrar solo los clientes con RFM_Score de '444'\n",
    "\n",
    "top_customers = RFM[RFM['RFM_Score']=='444']\n",
    "print(top_customers)"
   ]
  },
  {
   "cell_type": "code",
   "execution_count": 66,
   "metadata": {},
   "outputs": [],
   "source": [
    "# Primero , convertimos los puntajes a tipo int para las comparaciones\n",
    "RFM['R_Score']=RFM['R_Score'].astype(int)\n",
    "RFM['F_Score']=RFM['F_Score'].astype(int)\n",
    "RFM['M_Score']=RFM['M_Score'].astype(int)"
   ]
  },
  {
   "cell_type": "code",
   "execution_count": 84,
   "metadata": {},
   "outputs": [],
   "source": [
    "#Inicializamos la columna 'Segment' con 'Otros' para cubrir cualquier caso no explicito \n",
    "RFM ['Segment']='Otros'\n",
    "\n",
    "#asignamos segmentos basados en condiciones especificas\n",
    "RFM.loc[(RFM['R_Score']== 4)&(RFM['F_Score']==4)&(RFM['M_Score']==4),'Segment']='Mejores Clientes'\n",
    "RFM.loc[(RFM['R_Score']== 4)&(RFM['Segment']=='Otros'),'Segment'] = 'Recientes'\n",
    "RFM.loc[(RFM['F_Score']== 4)&(RFM['Segment']=='Otros'),'Segment'] = 'Frecuentes'\n",
    "RFM.loc[(RFM['M_Score']== 4)&(RFM['Segment']=='Otros'),'Segment'] = 'Grandes Gastadores'\n",
    "RFM.loc[(RFM['R_Score']== 4)&(RFM['Segment']=='Otros'),'Segment'] = 'En Riesgo'\n",
    "RFM.loc[(RFM['R_Score']== 1)&(RFM['F_Score']==1)&(RFM['Segment']=='Otros'),'Segment']='Casi Perdidos'\n",
    "RFM.loc[(RFM['F_Score']== 1)&(RFM['M_Score']==1)&(RFM['Segment']=='Otros'),'Segment']='Bajo Valor'\n"
   ]
  },
  {
   "cell_type": "code",
   "execution_count": 85,
   "metadata": {},
   "outputs": [
    {
     "name": "stdout",
     "output_type": "stream",
     "text": [
      "Segment\n",
      "Otros                 1548\n",
      "Casi Perdidos          704\n",
      "Recientes              663\n",
      "Mejores Clientes       462\n",
      "Bajo Valor             353\n",
      "Frecuentes             343\n",
      "Grandes Gastadores     265\n",
      "Name: count, dtype: int64\n"
     ]
    }
   ],
   "source": [
    "# Visualizamos la distribucion de los elementos\n",
    "segment_distribution = RFM['Segment'].value_counts()\n",
    "print(segment_distribution)"
   ]
  },
  {
   "cell_type": "code",
   "execution_count": 86,
   "metadata": {},
   "outputs": [],
   "source": [
    "import matplotlib.pyplot as plt\n"
   ]
  },
  {
   "cell_type": "code",
   "execution_count": 90,
   "metadata": {},
   "outputs": [
    {
     "data": {
      "image/png": "[encoded data removed]",
      "text/plain": [
       "<Figure size 640x480 with 1 Axes>"
      ]
     },
     "metadata": {},
     "output_type": "display_data"
    }
   ],
   "source": [
    "# Crear el gráfico de barras\n",
    "fig, ax = plt.subplots()\n",
    "segment_distribution.plot(kind='bar', ax=ax)\n",
    "ax.set_xlabel('Segmentos')\n",
    "ax.set_ylabel('Cantidad de Clientes')\n",
    "ax.set_title('Distribución de Segmentos de Clientes')\n",
    "plt.xticks(rotation=45)\n",
    "plt.show()"
   ]
  },
  {
   "cell_type": "code",
   "execution_count": 95,
   "metadata": {},
   "outputs": [
    {
     "name": "stdout",
     "output_type": "stream",
     "text": [
      "             Segmento  Cantidad de Clientes\n",
      "0               Otros                  1548\n",
      "1       Casi Perdidos                   704\n",
      "2           Recientes                   663\n",
      "3    Mejores Clientes                   462\n",
      "4          Bajo Valor                   353\n",
      "5          Frecuentes                   343\n",
      "6  Grandes Gastadores                   265\n"
     ]
    }
   ],
   "source": [
    "# Crear una tabla a partir de segment_distribution\n",
    "segment_distribution_table = segment_distribution.reset_index()\n",
    "segment_distribution_table.columns = ['Segmento', 'Cantidad de Clientes']\n",
    "# Mostrar la tabla en un formato bonito\n",
    "print(segment_distribution_table)"
   ]
  },
  {
   "cell_type": "code",
   "execution_count": 102,
   "metadata": {},
   "outputs": [
    {
     "name": "stdout",
     "output_type": "stream",
     "text": [
      "             Segmento  Total Monetario\n",
      "4    Mejores Clientes      4369199.090\n",
      "2          Frecuentes      1454127.700\n",
      "5               Otros      1074028.303\n",
      "3  Grandes Gastadores       878180.031\n",
      "6           Recientes       870034.430\n",
      "1       Casi Perdidos       204204.010\n",
      "0          Bajo Valor        61634.340\n"
     ]
    },
    {
     "data": {
      "image/png": "[encoded data removed]",
      "text/plain": [
       "<Figure size 640x480 with 1 Axes>"
      ]
     },
     "metadata": {},
     "output_type": "display_data"
    }
   ],
   "source": [
    "# Crear la tabla de suma de gastos por segmento\n",
    "monetary_by_segment = RFM.groupby('Segment')['Monetary'].sum().reset_index()\n",
    "monetary_by_segment.columns = ['Segmento', 'Total Monetario']\n",
    "\n",
    "# Ordenar la tabla por el total monetario en orden descendente\n",
    "monetary_by_segment = monetary_by_segment.sort_values(by='Total Monetario', ascending=False)\n",
    "\n",
    "# Mostrar la tabla\n",
    "print(monetary_by_segment)\n",
    "\n",
    "# Crear el gráfico de barras\n",
    "fig, ax = plt.subplots()\n",
    "ax.bar(monetary_by_segment['Segmento'], monetary_by_segment['Total Monetario'])\n",
    "ax.set_xlabel('Segmentos')\n",
    "ax.set_ylabel('Total Monetario')\n",
    "ax.set_title('Gastos Totales por Segmento de Clientes')\n",
    "plt.xticks(rotation=45)\n",
    "plt.show()"
   ]
  }
 ],
 "metadata": {
  "kernelspec": {
   "display_name": "base",
   "language": "python",
   "name": "python3"
  },
  "language_info": {
   "codemirror_mode": {
    "name": "ipython",
    "version": 3
   },
   "file_extension": ".py",
   "mimetype": "text/x-python",
   "name": "python",
   "nbconvert_exporter": "python",
   "pygments_lexer": "ipython3",
   "version": "3.11.7"
  }
 },
 "nbformat": 4,
 "nbformat_minor": 2
}
